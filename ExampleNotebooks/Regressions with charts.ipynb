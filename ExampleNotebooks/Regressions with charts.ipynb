{
 "cells": [
  {
   "cell_type": "markdown",
   "metadata": {},
   "source": [
    "## Covariance, Correlation, Least Square Method in Regression Analysis\n",
    "### Covariance and Correlation Coefficient\n",
    "**Sample Covariance** measures the strength and the direction of the relationship between the elements of **two** samples. **Variance**, as defined before deals with **one** sample of data whereas **Covariance** measures how much and in what direction a variable change (***positive, negative or independent***) with the change of the second variable.\n",
    "\n",
    "***--> create math notations***\n",
    "\n",
    "**Covariance** of two samples of data [x1, x2...xi] and [y1, y2,...yi] is measured as\n",
    "\n",
    "**Cov(xy) = SUM((xi - x-bar)(yi - y-bar))/(n-1)** where\n",
    "\n",
    "xi, yi = The ith value of the two samples (x, y) of data\n",
    "\n",
    "x-bar, y-bar = Average of x-data sample and y-data sample\n",
    "\n",
    "n = sample size\n",
    "\n",
    "**Positive Covariance** means y-value increases as x-value increases. **Negative Covariance** means y-value decreases as x-value increases. **Zero Covariance (Covariance value zero or close to zero** means x-values and y-values are **Independent or Nearly Independent** of each other.\n",
    "\n",
    "**Sample Correlation**, also called **Correlation Coefficient** between data samples x and y is measured from the **Covariance** between x, y using the formula\n",
    "\n",
    "**r-xy = (S-xy)/ (sigma-x)(sigma-y)** where \n",
    "\n",
    "r-xy = Correlation Coefficient between x and y\n",
    "\n",
    "S-xy = Covariance between x, y\n",
    "\n",
    "sigma-x = Standard Deviation of x\n",
    "\n",
    "sigma-y = Standard Deviation of y\n",
    "\n",
    "**Correlation Coefficient** is **unit-less** and has values between -1 (perfect anti-correlation) and +1 (perfect correlation). \n",
    "\n",
    "Positive, negative and zero/near-zero **Correlation Coefficient** are interprted in the same way as positive, negative and zero/near-zero **Covariance**\n",
    "\n",
    "We will be using **Covariance, Correlation Coefficient** in details in **Regression Analysis (Predictive Analytics section)**. In **Regression Analysis** we will primarily use **Least Square** method of finding the best fit for the **Regression Line** through the data.\n",
    "\n",
    "We will discuss **Least Square Method** briefly here and in more details in **Regression Analysis (Predictive Analytics)** section.\n",
    "\n",
    "The **Covariance** and **Correlation Coefficient** of data samples can be calculated using Python as follows\n",
    "\n"
   ]
  },
  {
   "cell_type": "code",
   "execution_count": 1,
   "metadata": {},
   "outputs": [],
   "source": [
    "from IPython.core.interactiveshell import InteractiveShell\n",
    "InteractiveShell.ast_node_interactivity = \"all\""
   ]
  },
  {
   "cell_type": "code",
   "execution_count": 2,
   "metadata": {},
   "outputs": [],
   "source": [
    "from __future__ import division\n",
    "import math\n",
    "from decimal import Decimal"
   ]
  },
  {
   "cell_type": "code",
   "execution_count": 3,
   "metadata": {},
   "outputs": [
    {
     "name": "stdout",
     "output_type": "stream",
     "text": [
      "600\n",
      "===================================================\n",
      "2719\n",
      "=====================\n",
      "[-300.11, -275.11, -254.11, -203.11, 45.89, 284.89, 136.89, 264.89, 299.89]\n",
      "===================================================\n",
      "1355125\n",
      "===================================================\n",
      "66710.61\n",
      "===================================================\n",
      "Standard Deviation of Input Data =  258.28\n",
      "===================================================\n"
     ]
    }
   ],
   "source": [
    "# CHANGE YOUR DATA HERE\n",
    "input_data = [2, 27, 48, 99, 348, 587, 439, 567, 602]\n",
    "\n",
    "def data_range(x):\n",
    "    return max(x) - min(x)\n",
    "print(data_range(input_data))\n",
    "print('===================================================')\n",
    "\n",
    "print(sum(input_data))\n",
    "print(\"=====================\")\n",
    "\n",
    "def mean(x):\n",
    "    return round((sum(x) / len(x)), 2)\n",
    "\n",
    "# print(mean(input_data))\n",
    "# print('===================================================')\n",
    "\n",
    "def diff_from_mean(x):\n",
    "    x_bar = mean(x)\n",
    "    return [round((x_i - x_bar), 2) for x_i in x]\n",
    "print(diff_from_mean(input_data))\n",
    "print('===================================================')\n",
    "\n",
    "def sum_of_squares(x):\n",
    "    return(sum(x_i**2 for x_i in x))\n",
    "print((sum_of_squares(input_data)))\n",
    "print('===================================================')\n",
    "\n",
    "def variance(x):\n",
    "    l = len(x)\n",
    "    deviations = diff_from_mean(x)\n",
    "    return (sum_of_squares(deviations)/(l - 1))\n",
    "print(round(variance(input_data), 2))\n",
    "print('===================================================')\n",
    "\n",
    "def standard_deviation(x):\n",
    "    v = variance(x)\n",
    "    return math.sqrt(v)\n",
    "print('Standard Deviation of Input Data = ', round(standard_deviation(input_data), 2))\n",
    "print('===================================================')"
   ]
  },
  {
   "cell_type": "code",
   "execution_count": 4,
   "metadata": {},
   "outputs": [
    {
     "name": "stdout",
     "output_type": "stream",
     "text": [
      "116287\n",
      "Covariance between x and y =  5685.46668\n",
      "===================================================\n",
      "Correlation between x and y =  0.9956\n",
      "===================================================\n"
     ]
    }
   ],
   "source": [
    "x = [1, 23, 36, 49, 53, 67]\n",
    "y = [12, 207, 389, 497, 503, 694]\n",
    "\n",
    "def dot(v, w):\n",
    "    return sum(v_i * w_i for v_i, w_i in zip(v, w))\n",
    "print(dot(x, y))\n",
    "\n",
    "def covariance(x, y):\n",
    "    n = len(x) # length of both x and y are required to be the same\n",
    "    return (dot(diff_from_mean(x), diff_from_mean(y)))/ (n-1)\n",
    "\n",
    "print('Covariance between x and y = ', covariance(x, y))\n",
    "print('===================================================')\n",
    "\n",
    "def correlation(x, y):\n",
    "    sdev_x = standard_deviation(x)\n",
    "    sdev_y = standard_deviation(y)\n",
    "    if sdev_x > 0 and sdev_y > 0:\n",
    "        return covariance(x,y)/(sdev_x * sdev_y)\n",
    "    else:\n",
    "        return 0\n",
    "    \n",
    "print('Correlation between x and y = ', round(correlation(x, y), 4))\n",
    "print('===================================================')"
   ]
  },
  {
   "cell_type": "markdown",
   "metadata": {},
   "source": [
    "## Least Square Method\n",
    "**Covariance** and **Correlation** are measures of linear association. In **Linear Regression**the first variable xi is ca\n",
    "lled the **explanatory or predictive** variable. The corresponding observation yi, taken from the input xi, is called the **response**. For example, can we explain or predict the **income of banks (response variable)** from its **assets (explanatory variable)**.\n",
    "\n",
    "In **Linear Regression**, the response variable is linearly related to the explanatory variable, but is subject to deviation\n",
    "or to **error**. So the relationship can be expressed as \n",
    "\n",
    "\n",
    "  **y-i = alpha + beta * x-i + error**\n",
    "  \n",
    "Our goal is, given the data, the x-i’s and y-i’s, to find the values of **alpha** and **beta** that will give the line having the best fit to the data. The principle of **Least Squares Regression** states that the best choice of this linear relationship is the one that minimizes the **square in the vertical distance (error)** from the y values in the data and the y values on the regression line. Thus, our problem of finding the **best fit** line translates to a **minimization** problem.\n",
    "\n",
    "This can be done with a small amount of calculus (\"Gradient Descent\", which we will **not do**). We will also have to note two important facts\n",
    "* ***With the best fit the error is always zero***\n",
    "* ***The best fit line passes through the point x-bar, y-bar***\n",
    "\n",
    "Skipping the calculus, the value of **beta** for the best fit (called **beta-hat**) is\n",
    "\n",
    "**beta-hat = Covariance(x,y) / Variance (x)**\n",
    "\n",
    "Also since the best fit line passes through (x-bar, y-bar), \n",
    "\n",
    "**y-bar = alpha-hat + beta-hat * x-bar + 0** (error = 0 for the best fit line)\n",
    "\n",
    "\n",
    "**alpha-hat = y-bar - beta-hat * x-bar**\n",
    "\n",
    "We have already created the Python functions for **Covariance(x,y) and Variance(x)**, **x-bar and y-bar***, and so we can easily calculate the value of **beta-hat** using those functions. Once **beta-hat** is calculated, **alpha-hat** can be calculated by substituting the values of **beta-hat, x-bar and y-bar**.\n",
    "\n",
    "We will get back to this subject in more details in the **Linear Regression (Predictive Analytics)** section.\n",
    "\n",
    "We will start with and spend most of our time with  **Simple Linear Regression** where the **dependent variable (response)** depnds on a **single** **independent (explanatory) variable**.\n",
    "\n",
    "We will also discuss the case of **Multiple Linear Regression** where the **dependent variable (response)** depnds on **multiple independent (explanatory) variables**.\n",
    "\n",
    "A third method of regression called the **Logistic Regression** will also be dicussed.\n",
    "\n",
    "We will also calculate the **Residuals** which the difference between the **Actual** and the **Predicted** values\n",
    "\n",
    "**Actuals** will be taken from the data and **Predicted** values will be calculated using the **Slope** and **Intercept** for each value of X\n",
    "\n",
    "We will get a list of **Residuals (also called Errors)** and then we will calculate\n",
    "\n",
    "1. ***SSR (Sum of Squared Residuals)***\n",
    "\n",
    "2. ***Sum of Residuals***\n"
   ]
  },
  {
   "cell_type": "code",
   "execution_count": 5,
   "metadata": {},
   "outputs": [
    {
     "name": "stdout",
     "output_type": "stream",
     "text": [
      "Covariance between square footage and house price =  19166.6667\n",
      "Variance of square footage 174611.1111\n",
      "Correlation between square footage and proce =  0.7621\n",
      "58.0817 % of the prices are explained by the line of best fit\n"
     ]
    }
   ],
   "source": [
    "sq_ft = [1400,1600,1700,1875,1100,1550,2350,2450,1425,1700] # Independent variable (X)\n",
    "price = [245,312,279,308,199,219,405,324,319,255]   # Dependent Variable (y)\n",
    "\n",
    "cov_xy = round(covariance(sq_ft, price), 4)\n",
    "print('Covariance between square footage and house price = ', cov_xy)\n",
    "\n",
    "var_x = round(variance(sq_ft), 4)\n",
    "print('Variance of square footage', var_x)\n",
    "\n",
    "r_xy = correlation(sq_ft, price)\n",
    "print('Correlation between square footage and proce = ', round(r_xy, 4))\n",
    "\n",
    "r_sq = r_xy**2 * 100\n",
    "print(round(r_sq, 4) , '% of the prices are explained by the line of best fit')"
   ]
  },
  {
   "cell_type": "code",
   "execution_count": 6,
   "metadata": {
    "scrolled": true
   },
   "outputs": [
    {
     "name": "stdout",
     "output_type": "stream",
     "text": [
      "beta_1_hat (slope of the best fit straight line) =  0.109768\n"
     ]
    }
   ],
   "source": [
    "beta_1_hat = round((cov_xy/var_x), 6) # Slope of the best fit straight line\n",
    "print('beta_1_hat (slope of the best fit straight line) = ', beta_1_hat)"
   ]
  },
  {
   "cell_type": "code",
   "execution_count": 7,
   "metadata": {},
   "outputs": [
    {
     "name": "stdout",
     "output_type": "stream",
     "text": [
      "Mean square footage (x-bar) =  1715.0\n",
      "Mean price (y-bar) =  286.5\n"
     ]
    }
   ],
   "source": [
    "sq_ft_mean = mean(sq_ft)\n",
    "print('Mean square footage (x-bar) = ', sq_ft_mean )\n",
    "price_mean = mean(price)\n",
    "print('Mean price (y-bar) = ', price_mean)"
   ]
  },
  {
   "cell_type": "code",
   "execution_count": 8,
   "metadata": {},
   "outputs": [
    {
     "name": "stdout",
     "output_type": "stream",
     "text": [
      "beta_0_hat (intercept of the best fit straight line) =  98.24788\n"
     ]
    }
   ],
   "source": [
    "beta_0_hat = round((price_mean - beta_1_hat * sq_ft_mean), 6) # Intercept of the best fit straight line\n",
    "print('beta_0_hat (intercept of the best fit straight line) = ', beta_0_hat)"
   ]
  },
  {
   "cell_type": "code",
   "execution_count": 38,
   "metadata": {},
   "outputs": [],
   "source": [
    "def get_y_pred(x, slope, intercept):\n",
    "    return (x * slope + intercept)"
   ]
  },
  {
   "cell_type": "code",
   "execution_count": 39,
   "metadata": {},
   "outputs": [
    {
     "name": "stdout",
     "output_type": "stream",
     "text": [
      "Predicted price (in $1000) for house with square footage =  1400 is  251.92\n",
      "================\n",
      "Predicted price (in $1000) for house with square footage =  1600 is  273.88\n",
      "================\n",
      "Predicted price (in $1000) for house with square footage =  1700 is  284.85\n",
      "================\n"
     ]
    }
   ],
   "source": [
    "x = 1400\n",
    "print('Predicted price (in $1000) for house with square footage = ', x, 'is ', round(get_y_pred(x, beta_1_hat, beta_0_hat), 2))\n",
    "print('================')\n",
    "x = 1600\n",
    "print('Predicted price (in $1000) for house with square footage = ', x, 'is ', round(get_y_pred(x, beta_1_hat, beta_0_hat), 2))\n",
    "print('================')\n",
    "x = 1700\n",
    "print('Predicted price (in $1000) for house with square footage = ', x, 'is ', round(get_y_pred(x, beta_1_hat, beta_0_hat), 2))\n",
    "print('================')"
   ]
  },
  {
   "cell_type": "code",
   "execution_count": 40,
   "metadata": {},
   "outputs": [],
   "source": [
    "import matplotlib.pyplot as plt\n",
    "import numpy as np\n",
    "import pandas as pd"
   ]
  },
  {
   "cell_type": "code",
   "execution_count": 41,
   "metadata": {},
   "outputs": [
    {
     "name": "stdout",
     "output_type": "stream",
     "text": [
      "House Price List =  [251.92]\n",
      "------------------\n",
      "House Price List =  [251.92, 273.88]\n",
      "------------------\n",
      "House Price List =  [251.92, 273.88, 284.85]\n",
      "------------------\n",
      "House Price List =  [251.92, 273.88, 284.85, 304.06]\n",
      "------------------\n",
      "House Price List =  [251.92, 273.88, 284.85, 304.06, 218.99]\n",
      "------------------\n",
      "House Price List =  [251.92, 273.88, 284.85, 304.06, 218.99, 268.39]\n",
      "------------------\n",
      "House Price List =  [251.92, 273.88, 284.85, 304.06, 218.99, 268.39, 356.2]\n",
      "------------------\n",
      "House Price List =  [251.92, 273.88, 284.85, 304.06, 218.99, 268.39, 356.2, 367.18]\n",
      "------------------\n",
      "House Price List =  [251.92, 273.88, 284.85, 304.06, 218.99, 268.39, 356.2, 367.18, 254.67]\n",
      "------------------\n",
      "House Price List =  [251.92, 273.88, 284.85, 304.06, 218.99, 268.39, 356.2, 367.18, 254.67, 284.85]\n",
      "------------------\n"
     ]
    },
    {
     "data": {
      "text/plain": [
       "<matplotlib.collections.PathCollection at 0x20450631080>"
      ]
     },
     "execution_count": 41,
     "metadata": {},
     "output_type": "execute_result"
    },
    {
     "data": {
      "text/plain": [
       "[<matplotlib.lines.Line2D at 0x204505feda0>]"
      ]
     },
     "execution_count": 41,
     "metadata": {},
     "output_type": "execute_result"
    },
    {
     "data": {
      "text/plain": [
       "Text(0.5, 0, 'Square Footage')"
      ]
     },
     "execution_count": 41,
     "metadata": {},
     "output_type": "execute_result"
    },
    {
     "data": {
      "text/plain": [
       "Text(0, 0.5, 'Predicted House Price')"
      ]
     },
     "execution_count": 41,
     "metadata": {},
     "output_type": "execute_result"
    },
    {
     "data": {
      "image/png": "[encoded data removed]",
      "text/plain": [
       "<Figure size 432x288 with 1 Axes>"
      ]
     },
     "metadata": {
      "needs_background": "light"
     },
     "output_type": "display_data"
    }
   ],
   "source": [
    "house_price_list = []\n",
    "for x_i in sq_ft:\n",
    "    house_price_list.append(round(get_y_pred(x_i, beta_1_hat, beta_0_hat), 2))\n",
    "    print('House Price List = ', house_price_list)\n",
    "    print('------------------')\n",
    "\n",
    "plt.scatter(sq_ft, price, color='red', marker='o', s=30)\n",
    "plt.plot(sq_ft, house_price_list, color = \"g\")\n",
    "plt.xlabel('Square Footage') \n",
    "plt.ylabel('Predicted House Price') "
   ]
  },
  {
   "cell_type": "code",
   "execution_count": 13,
   "metadata": {},
   "outputs": [
    {
     "name": "stdout",
     "output_type": "stream",
     "text": [
      "Errors or Residuals of Predicted and Actual House Prices = [-6.92, 38.12, -5.85, 3.94, -19.99, -49.39, 48.8, -43.18, 64.33, -29.85]\n"
     ]
    }
   ],
   "source": [
    "def get_residuals(list1, list2):\n",
    "    residuals = []\n",
    "    i = 0\n",
    "    while i < len(list1):\n",
    "        residuals.append(round((list1[i] - list2[i]), 2))\n",
    "        i+= 1;\n",
    "    return residuals\n",
    "\n",
    "errors = get_residuals(price,house_price_list)\n",
    "print('Errors or Residuals of Predicted and Actual House Prices =', errors)"
   ]
  },
  {
   "cell_type": "code",
   "execution_count": 14,
   "metadata": {},
   "outputs": [
    {
     "name": "stdout",
     "output_type": "stream",
     "text": [
      "Sum of Residuals of Predicted and Actual House Prices =  0.0\n",
      "===================\n",
      "Sum Squared Residuals of Predicted and Actual House Prices =  13665.0629\n"
     ]
    }
   ],
   "source": [
    "def get_ssr(list1, list2):\n",
    "    res = get_residuals(list1, list2)\n",
    "    ssr = 0\n",
    "    i = 0\n",
    "    while i < len(res):\n",
    "        ssr = ssr + (res[i])**2\n",
    "        i+= 1\n",
    "    return ssr\n",
    "\n",
    "\n",
    "def get_sum_residuals(list1, list2):\n",
    "    res = get_residuals(list1, list2)\n",
    "    sum_res = 0\n",
    "    i = 0\n",
    "    while i < len(res):\n",
    "        sum_res += res[i]\n",
    "        i+= 1\n",
    "    return round(sum_res, 1)\n",
    "\n",
    "house_price_sum_residuals = get_sum_residuals (price, house_price_list)\n",
    "print('Sum of Residuals of Predicted and Actual House Prices = ', house_price_sum_residuals)\n",
    "\n",
    "print('===================')\n",
    "house_price_ssr = round(get_ssr(price, house_price_list), 4)\n",
    "print('Sum Squared Residuals of Predicted and Actual House Prices = ', house_price_ssr)"
   ]
  },
  {
   "cell_type": "markdown",
   "metadata": {},
   "source": [
    "## Linear Regression Data set = House Price"
   ]
  },
  {
   "cell_type": "code",
   "execution_count": 15,
   "metadata": {
    "scrolled": false
   },
   "outputs": [
    {
     "name": "stdout",
     "output_type": "stream",
     "text": [
      "Mean of the exploratory (independent) variable =  1715.0\n",
      "Mean of response (dependent) variable =  286.5\n",
      "Covariance between exploratory and response variables =  19166.6667\n",
      "Variance of exploratory (independent) variable =  174611.1111\n",
      "beta_1_hat (slope of the best fit straight line) =  0.109768\n",
      "beta_0_hat (intercept of the best fit straight line) =  98.24788\n",
      "Response value list is  [251.92, 273.88, 284.85, 304.06, 218.99, 268.39, 356.2, 367.18, 254.67, 284.85]\n",
      "Errors or Residuals of Predicted Response value and Actual Exploratory value = [-6.92, 38.12, -5.85, 3.94, -19.99, -49.39, 48.8, -43.18, 64.33, -29.85]\n",
      "Sum of Residuals of Predicted and Actual Response Values =  0.0\n",
      "Sum Squared Residuals of Predicted and Actual Response Values =  13665.0629\n",
      "Correlation between Exploratory and Response variables =  0.7621\n",
      "R-square between Exploratory and Response variables =  58.0817\n",
      "Goodness of fit : 58.0817 % of the Response Variable values are explained by the line of best fit\n"
     ]
    },
    {
     "data": {
      "text/html": [
       "<div>\n",
       "<style scoped>\n",
       "    .dataframe tbody tr th:only-of-type {\n",
       "        vertical-align: middle;\n",
       "    }\n",
       "\n",
       "    .dataframe tbody tr th {\n",
       "        vertical-align: top;\n",
       "    }\n",
       "\n",
       "    .dataframe thead th {\n",
       "        text-align: right;\n",
       "    }\n",
       "</style>\n",
       "<table border=\"1\" class=\"dataframe\">\n",
       "  <thead>\n",
       "    <tr style=\"text-align: right;\">\n",
       "      <th></th>\n",
       "      <th>X Mean</th>\n",
       "      <th>Y Mean</th>\n",
       "      <th>Beta-0(Slope)</th>\n",
       "      <th>Beta-1(Intercept)</th>\n",
       "      <th>SumOfResiduals</th>\n",
       "      <th>SumSquareResiduals</th>\n",
       "      <th>R-XY(Correlation)</th>\n",
       "      <th>R-Square-XY</th>\n",
       "      <th>Goodness of fit(%)</th>\n",
       "    </tr>\n",
       "  </thead>\n",
       "  <tbody>\n",
       "    <tr>\n",
       "      <th>0</th>\n",
       "      <td>1715.0</td>\n",
       "      <td>286.5</td>\n",
       "      <td>0.109768</td>\n",
       "      <td>98.24788</td>\n",
       "      <td>0.0</td>\n",
       "      <td>13665.0629</td>\n",
       "      <td>0.76</td>\n",
       "      <td>58.08</td>\n",
       "      <td>58.08</td>\n",
       "    </tr>\n",
       "  </tbody>\n",
       "</table>\n",
       "</div>"
      ],
      "text/plain": [
       "   X Mean  Y Mean  Beta-0(Slope)  Beta-1(Intercept)  SumOfResiduals  \\\n",
       "0  1715.0   286.5       0.109768           98.24788             0.0   \n",
       "\n",
       "   SumSquareResiduals  R-XY(Correlation)  R-Square-XY  Goodness of fit(%)  \n",
       "0          13665.0629               0.76        58.08               58.08  "
      ]
     },
     "execution_count": 15,
     "metadata": {},
     "output_type": "execute_result"
    },
    {
     "data": {
      "image/png": "[encoded data removed]",
      "text/plain": [
       "<Figure size 432x288 with 1 Axes>"
      ]
     },
     "metadata": {
      "needs_background": "light"
     },
     "output_type": "display_data"
    }
   ],
   "source": [
    "def do_all_regression_stuff(x, y):\n",
    "    mean_exploratory = mean(x)\n",
    "    print('Mean of the exploratory (independent) variable = ', mean_exploratory)\n",
    "    mean_response = mean(y)\n",
    "    print('Mean of response (dependent) variable = ', mean_response)\n",
    "    \n",
    "    cov_xy = round(covariance(x, y), 4)\n",
    "    print('Covariance between exploratory and response variables = ', cov_xy)\n",
    "    var_x = round(variance(x), 4)\n",
    "    print('Variance of exploratory (independent) variable = ', var_x)\n",
    "    \n",
    "    beta_1_hat = round((cov_xy/var_x), 6) # Slope of the best fit straight line\n",
    "    print('beta_1_hat (slope of the best fit straight line) = ', beta_1_hat)\n",
    "    beta_0_hat = round((mean_response - beta_1_hat * mean_exploratory), 6) # Intercept of the best fit straight line\n",
    "    print('beta_0_hat (intercept of the best fit straight line) = ', beta_0_hat)\n",
    "    \n",
    "    response_value_list = []\n",
    "    for x_i in x:\n",
    "        response_value_list.append(round(get_y_pred(x_i, beta_1_hat, beta_0_hat), 2))\n",
    "        # print('Response Value List = ', response_value_list)\n",
    "        # print('------------------')\n",
    "    print('Response value list is ', response_value_list)\n",
    "    plt.scatter(x, y, color='red', marker='o', s=30)\n",
    "    plt.plot(x, response_value_list, color = \"g\")\n",
    "    plt.xlabel('Exploratory (independent) variable values') \n",
    "    plt.ylabel('Response (dependent) variable values ')\n",
    "    \n",
    "    errors = get_residuals(y,response_value_list)\n",
    "    print('Errors or Residuals of Predicted Response value and Actual Exploratory value =', errors)\n",
    "    \n",
    "    response_sum_residuals = get_sum_residuals (y, response_value_list)\n",
    "    print('Sum of Residuals of Predicted and Actual Response Values = ', response_sum_residuals)\n",
    "\n",
    "    # print('===================')\n",
    "    response_value_ssr = round(get_ssr(y, response_value_list), 4)\n",
    "    print('Sum Squared Residuals of Predicted and Actual Response Values = ', response_value_ssr)\n",
    "    \n",
    "    r_xy = correlation(x, y)\n",
    "    print('Correlation between Exploratory and Response variables = ', round(r_xy, 4))\n",
    "\n",
    "    r_sq = r_xy**2 * 100\n",
    "    print('R-square between Exploratory and Response variables = ', round(r_sq, 4))\n",
    "    print('Goodness of fit :', round(r_sq, 4) , '% of the Response Variable values are explained by the line of best fit')\n",
    "    \n",
    "    newdf = pd.DataFrame({\n",
    "        'X Mean':[mean_exploratory],\n",
    "        'Y Mean':[mean_response],\n",
    "        'Beta-0(Slope)': [beta_1_hat],\n",
    "        'Beta-1(Intercept)': [beta_0_hat],\n",
    "        'SumOfResiduals':[response_sum_residuals],\n",
    "        'SumSquareResiduals':[response_value_ssr],\n",
    "        'R-XY(Correlation)':[round(r_xy, 2)],\n",
    "        'R-Square-XY':[round(r_sq, 2)],\n",
    "        'Goodness of fit(%)':[round(r_sq,2)]\n",
    "    })\n",
    "    \n",
    "    newdf = newdf[['X Mean', 'Y Mean', 'Beta-0(Slope)', 'Beta-1(Intercept)', 'SumOfResiduals', 'SumSquareResiduals', 'R-XY(Correlation)', 'R-Square-XY', 'Goodness of fit(%)']]\n",
    "    \n",
    "    return newdf\n",
    "    \n",
    "my_newdf1 = do_all_regression_stuff(sq_ft, price)\n",
    "my_newdf1.head(2)"
   ]
  },
  {
   "cell_type": "markdown",
   "metadata": {},
   "source": [
    "## Linear Regression Data set = House Price"
   ]
  },
  {
   "cell_type": "code",
   "execution_count": 16,
   "metadata": {},
   "outputs": [
    {
     "data": {
      "text/html": [
       "<div>\n",
       "<style scoped>\n",
       "    .dataframe tbody tr th:only-of-type {\n",
       "        vertical-align: middle;\n",
       "    }\n",
       "\n",
       "    .dataframe tbody tr th {\n",
       "        vertical-align: top;\n",
       "    }\n",
       "\n",
       "    .dataframe thead th {\n",
       "        text-align: right;\n",
       "    }\n",
       "</style>\n",
       "<table border=\"1\" class=\"dataframe\">\n",
       "  <thead>\n",
       "    <tr style=\"text-align: right;\">\n",
       "      <th></th>\n",
       "      <th>House Price</th>\n",
       "      <th>Square Footage</th>\n",
       "    </tr>\n",
       "  </thead>\n",
       "  <tbody>\n",
       "    <tr>\n",
       "      <th>0</th>\n",
       "      <td>245</td>\n",
       "      <td>1400</td>\n",
       "    </tr>\n",
       "    <tr>\n",
       "      <th>1</th>\n",
       "      <td>312</td>\n",
       "      <td>1600</td>\n",
       "    </tr>\n",
       "    <tr>\n",
       "      <th>2</th>\n",
       "      <td>279</td>\n",
       "      <td>1700</td>\n",
       "    </tr>\n",
       "    <tr>\n",
       "      <th>3</th>\n",
       "      <td>308</td>\n",
       "      <td>1875</td>\n",
       "    </tr>\n",
       "    <tr>\n",
       "      <th>4</th>\n",
       "      <td>199</td>\n",
       "      <td>1100</td>\n",
       "    </tr>\n",
       "    <tr>\n",
       "      <th>5</th>\n",
       "      <td>219</td>\n",
       "      <td>1550</td>\n",
       "    </tr>\n",
       "    <tr>\n",
       "      <th>6</th>\n",
       "      <td>405</td>\n",
       "      <td>2350</td>\n",
       "    </tr>\n",
       "    <tr>\n",
       "      <th>7</th>\n",
       "      <td>324</td>\n",
       "      <td>2450</td>\n",
       "    </tr>\n",
       "    <tr>\n",
       "      <th>8</th>\n",
       "      <td>319</td>\n",
       "      <td>1425</td>\n",
       "    </tr>\n",
       "    <tr>\n",
       "      <th>9</th>\n",
       "      <td>255</td>\n",
       "      <td>1700</td>\n",
       "    </tr>\n",
       "  </tbody>\n",
       "</table>\n",
       "</div>"
      ],
      "text/plain": [
       "   House Price  Square Footage\n",
       "0          245            1400\n",
       "1          312            1600\n",
       "2          279            1700\n",
       "3          308            1875\n",
       "4          199            1100\n",
       "5          219            1550\n",
       "6          405            2350\n",
       "7          324            2450\n",
       "8          319            1425\n",
       "9          255            1700"
      ]
     },
     "execution_count": 16,
     "metadata": {},
     "output_type": "execute_result"
    },
    {
     "name": "stdout",
     "output_type": "stream",
     "text": [
      "0    245\n",
      "1    312\n",
      "2    279\n",
      "3    308\n",
      "4    199\n",
      "5    219\n",
      "6    405\n",
      "7    324\n",
      "8    319\n",
      "9    255\n",
      "Name: House Price, dtype: int64\n"
     ]
    },
    {
     "data": {
      "text/plain": [
       "[None]"
      ]
     },
     "execution_count": 16,
     "metadata": {},
     "output_type": "execute_result"
    },
    {
     "name": "stdout",
     "output_type": "stream",
     "text": [
      "Mean of the exploratory (independent) variable =  1715.0\n",
      "Mean of response (dependent) variable =  286.5\n",
      "Covariance between exploratory and response variables =  19166.6667\n",
      "Variance of exploratory (independent) variable =  174611.1111\n",
      "beta_1_hat (slope of the best fit straight line) =  0.109768\n",
      "beta_0_hat (intercept of the best fit straight line) =  98.24788\n",
      "Response value list is  [251.92, 273.88, 284.85, 304.06, 218.99, 268.39, 356.2, 367.18, 254.67, 284.85]\n",
      "Errors or Residuals of Predicted Response value and Actual Exploratory value = [-6.92, 38.12, -5.85, 3.94, -19.99, -49.39, 48.8, -43.18, 64.33, -29.85]\n",
      "Sum of Residuals of Predicted and Actual Response Values =  0.0\n",
      "Sum Squared Residuals of Predicted and Actual Response Values =  13665.0629\n",
      "Correlation between Exploratory and Response variables =  0.7621\n",
      "R-square between Exploratory and Response variables =  58.0817\n",
      "Goodness of fit : 58.0817 % of the Response Variable values are explained by the line of best fit\n"
     ]
    },
    {
     "data": {
      "text/html": [
       "<div>\n",
       "<style scoped>\n",
       "    .dataframe tbody tr th:only-of-type {\n",
       "        vertical-align: middle;\n",
       "    }\n",
       "\n",
       "    .dataframe tbody tr th {\n",
       "        vertical-align: top;\n",
       "    }\n",
       "\n",
       "    .dataframe thead th {\n",
       "        text-align: right;\n",
       "    }\n",
       "</style>\n",
       "<table border=\"1\" class=\"dataframe\">\n",
       "  <thead>\n",
       "    <tr style=\"text-align: right;\">\n",
       "      <th></th>\n",
       "      <th>X Mean</th>\n",
       "      <th>Y Mean</th>\n",
       "      <th>Beta-0(Slope)</th>\n",
       "      <th>Beta-1(Intercept)</th>\n",
       "      <th>SumOfResiduals</th>\n",
       "      <th>SumSquareResiduals</th>\n",
       "      <th>R-XY(Correlation)</th>\n",
       "      <th>R-Square-XY</th>\n",
       "      <th>Goodness of fit(%)</th>\n",
       "    </tr>\n",
       "  </thead>\n",
       "  <tbody>\n",
       "    <tr>\n",
       "      <th>0</th>\n",
       "      <td>1715.0</td>\n",
       "      <td>286.5</td>\n",
       "      <td>0.109768</td>\n",
       "      <td>98.24788</td>\n",
       "      <td>0.0</td>\n",
       "      <td>13665.0629</td>\n",
       "      <td>0.76</td>\n",
       "      <td>58.08</td>\n",
       "      <td>58.08</td>\n",
       "    </tr>\n",
       "  </tbody>\n",
       "</table>\n",
       "</div>"
      ],
      "text/plain": [
       "   X Mean  Y Mean  Beta-0(Slope)  Beta-1(Intercept)  SumOfResiduals  \\\n",
       "0  1715.0   286.5       0.109768           98.24788             0.0   \n",
       "\n",
       "   SumSquareResiduals  R-XY(Correlation)  R-Square-XY  Goodness of fit(%)  \n",
       "0          13665.0629               0.76        58.08               58.08  "
      ]
     },
     "execution_count": 16,
     "metadata": {},
     "output_type": "execute_result"
    },
    {
     "data": {
      "image/png": "[encoded data removed]",
      "text/plain": [
       "<Figure size 432x288 with 1 Axes>"
      ]
     },
     "metadata": {
      "needs_background": "light"
     },
     "output_type": "display_data"
    }
   ],
   "source": [
    "import pandas as pd\n",
    "df0 = pd.read_csv(\"c:/users/utpal.datta/desktop/Regr_data_set/HousePrices.csv\")\n",
    "df0.head(10)\n",
    "list_y0 = df0['House Price']\n",
    "list_x0 = df0['Square Footage']\n",
    "[print(df0['House Price'])]\n",
    "\n",
    "my_newdf0 = do_all_regression_stuff(list_x0, list_y0)\n",
    "my_newdf0.head(2)"
   ]
  },
  {
   "cell_type": "markdown",
   "metadata": {},
   "source": [
    "## Linear Regression Data set = Weddings"
   ]
  },
  {
   "cell_type": "code",
   "execution_count": 17,
   "metadata": {},
   "outputs": [
    {
     "data": {
      "text/html": [
       "<div>\n",
       "<style scoped>\n",
       "    .dataframe tbody tr th:only-of-type {\n",
       "        vertical-align: middle;\n",
       "    }\n",
       "\n",
       "    .dataframe tbody tr th {\n",
       "        vertical-align: top;\n",
       "    }\n",
       "\n",
       "    .dataframe thead th {\n",
       "        text-align: right;\n",
       "    }\n",
       "</style>\n",
       "<table border=\"1\" class=\"dataframe\">\n",
       "  <thead>\n",
       "    <tr style=\"text-align: right;\">\n",
       "      <th></th>\n",
       "      <th>Couple's Income</th>\n",
       "      <th>Bride's age</th>\n",
       "      <th>Payor</th>\n",
       "      <th>Wedding cost</th>\n",
       "      <th>Attendance</th>\n",
       "      <th>Value Rating</th>\n",
       "      <th>Unnamed: 6</th>\n",
       "      <th>Unnamed: 7</th>\n",
       "    </tr>\n",
       "  </thead>\n",
       "  <tbody>\n",
       "    <tr>\n",
       "      <th>0</th>\n",
       "      <td>$130,000</td>\n",
       "      <td>22</td>\n",
       "      <td>Bride's Parents</td>\n",
       "      <td>60700.0</td>\n",
       "      <td>300</td>\n",
       "      <td>3</td>\n",
       "      <td>NaN</td>\n",
       "      <td>NaN</td>\n",
       "    </tr>\n",
       "    <tr>\n",
       "      <th>1</th>\n",
       "      <td>$157,000</td>\n",
       "      <td>23</td>\n",
       "      <td>Bride's Parents</td>\n",
       "      <td>52000.0</td>\n",
       "      <td>350</td>\n",
       "      <td>1</td>\n",
       "      <td>NaN</td>\n",
       "      <td>NaN</td>\n",
       "    </tr>\n",
       "    <tr>\n",
       "      <th>2</th>\n",
       "      <td>$98,000</td>\n",
       "      <td>27</td>\n",
       "      <td>Bride &amp; Groom</td>\n",
       "      <td>47000.0</td>\n",
       "      <td>150</td>\n",
       "      <td>3</td>\n",
       "      <td>NaN</td>\n",
       "      <td>NaN</td>\n",
       "    </tr>\n",
       "    <tr>\n",
       "      <th>3</th>\n",
       "      <td>$72,000</td>\n",
       "      <td>29</td>\n",
       "      <td>Bride &amp; Groom</td>\n",
       "      <td>42000.0</td>\n",
       "      <td>200</td>\n",
       "      <td>5</td>\n",
       "      <td>NaN</td>\n",
       "      <td>NaN</td>\n",
       "    </tr>\n",
       "    <tr>\n",
       "      <th>4</th>\n",
       "      <td>$86,000</td>\n",
       "      <td>25</td>\n",
       "      <td>Bride's Parents</td>\n",
       "      <td>34000.0</td>\n",
       "      <td>250</td>\n",
       "      <td>3</td>\n",
       "      <td>NaN</td>\n",
       "      <td>NaN</td>\n",
       "    </tr>\n",
       "  </tbody>\n",
       "</table>\n",
       "</div>"
      ],
      "text/plain": [
       "  Couple's Income  Bride's age             Payor  Wedding cost  Attendance  \\\n",
       "0       $130,000             22  Bride's Parents       60700.0         300   \n",
       "1       $157,000             23  Bride's Parents       52000.0         350   \n",
       "2        $98,000             27    Bride & Groom       47000.0         150   \n",
       "3        $72,000             29    Bride & Groom       42000.0         200   \n",
       "4        $86,000             25  Bride's Parents       34000.0         250   \n",
       "\n",
       "   Value Rating  Unnamed: 6  Unnamed: 7  \n",
       "0             3         NaN         NaN  \n",
       "1             1         NaN         NaN  \n",
       "2             3         NaN         NaN  \n",
       "3             5         NaN         NaN  \n",
       "4             3         NaN         NaN  "
      ]
     },
     "execution_count": 17,
     "metadata": {},
     "output_type": "execute_result"
    },
    {
     "data": {
      "text/html": [
       "<div>\n",
       "<style scoped>\n",
       "    .dataframe tbody tr th:only-of-type {\n",
       "        vertical-align: middle;\n",
       "    }\n",
       "\n",
       "    .dataframe tbody tr th {\n",
       "        vertical-align: top;\n",
       "    }\n",
       "\n",
       "    .dataframe thead th {\n",
       "        text-align: right;\n",
       "    }\n",
       "</style>\n",
       "<table border=\"1\" class=\"dataframe\">\n",
       "  <thead>\n",
       "    <tr style=\"text-align: right;\">\n",
       "      <th></th>\n",
       "      <th>Couple's Income</th>\n",
       "      <th>Bride's age</th>\n",
       "      <th>Payor</th>\n",
       "      <th>Wedding cost</th>\n",
       "      <th>Attendance</th>\n",
       "      <th>Value Rating</th>\n",
       "      <th>Unnamed: 6</th>\n",
       "      <th>Unnamed: 7</th>\n",
       "    </tr>\n",
       "  </thead>\n",
       "  <tbody>\n",
       "    <tr>\n",
       "      <th>20</th>\n",
       "      <td>$55,000</td>\n",
       "      <td>28</td>\n",
       "      <td>Bride's Parents</td>\n",
       "      <td>16000.0</td>\n",
       "      <td>100</td>\n",
       "      <td>5</td>\n",
       "      <td>NaN</td>\n",
       "      <td>NaN</td>\n",
       "    </tr>\n",
       "    <tr>\n",
       "      <th>21</th>\n",
       "      <td>$53,000</td>\n",
       "      <td>31</td>\n",
       "      <td>Bride &amp; Groom</td>\n",
       "      <td>14000.0</td>\n",
       "      <td>100</td>\n",
       "      <td>1</td>\n",
       "      <td>NaN</td>\n",
       "      <td>NaN</td>\n",
       "    </tr>\n",
       "    <tr>\n",
       "      <th>22</th>\n",
       "      <td>$62,000</td>\n",
       "      <td>24</td>\n",
       "      <td>Bride's Parents</td>\n",
       "      <td>13000.0</td>\n",
       "      <td>150</td>\n",
       "      <td>1</td>\n",
       "      <td>NaN</td>\n",
       "      <td>NaN</td>\n",
       "    </tr>\n",
       "    <tr>\n",
       "      <th>23</th>\n",
       "      <td>$40,000</td>\n",
       "      <td>26</td>\n",
       "      <td>Bride's Parents</td>\n",
       "      <td>7000.0</td>\n",
       "      <td>50</td>\n",
       "      <td>3</td>\n",
       "      <td>NaN</td>\n",
       "      <td>NaN</td>\n",
       "    </tr>\n",
       "    <tr>\n",
       "      <th>24</th>\n",
       "      <td>$45,000</td>\n",
       "      <td>32</td>\n",
       "      <td>Bride &amp; Groom</td>\n",
       "      <td>5000.0</td>\n",
       "      <td>50</td>\n",
       "      <td>5</td>\n",
       "      <td>NaN</td>\n",
       "      <td>NaN</td>\n",
       "    </tr>\n",
       "  </tbody>\n",
       "</table>\n",
       "</div>"
      ],
      "text/plain": [
       "   Couple's Income  Bride's age             Payor  Wedding cost  Attendance  \\\n",
       "20        $55,000             28  Bride's Parents       16000.0         100   \n",
       "21        $53,000             31    Bride & Groom       14000.0         100   \n",
       "22        $62,000             24  Bride's Parents       13000.0         150   \n",
       "23        $40,000             26  Bride's Parents        7000.0          50   \n",
       "24        $45,000             32    Bride & Groom        5000.0          50   \n",
       "\n",
       "    Value Rating  Unnamed: 6  Unnamed: 7  \n",
       "20             5         NaN         NaN  \n",
       "21             1         NaN         NaN  \n",
       "22             1         NaN         NaN  \n",
       "23             3         NaN         NaN  \n",
       "24             5         NaN         NaN  "
      ]
     },
     "execution_count": 17,
     "metadata": {},
     "output_type": "execute_result"
    },
    {
     "name": "stdout",
     "output_type": "stream",
     "text": [
      "0     60700.0\n",
      "1     52000.0\n",
      "2     47000.0\n",
      "3     42000.0\n",
      "4     34000.0\n",
      "5     30500.0\n",
      "6     30000.0\n",
      "7     30000.0\n",
      "8     28000.0\n",
      "9     26000.0\n",
      "10    25000.0\n",
      "11    24000.0\n",
      "12    24000.0\n",
      "13    22000.0\n",
      "14    20000.0\n",
      "15    20000.0\n",
      "16    20000.0\n",
      "17    19000.0\n",
      "18    19000.0\n",
      "19    18000.0\n",
      "20    16000.0\n",
      "21    14000.0\n",
      "22    13000.0\n",
      "23     7000.0\n",
      "24     5000.0\n",
      "Name: Wedding cost, dtype: float64\n"
     ]
    }
   ],
   "source": [
    "import pandas as pd\n",
    "\n",
    "df1 = pd.read_csv(\"c:/users/utpal.datta/desktop/Regr_data_set/Weddings.csv\")\n",
    "df1.head(5)\n",
    "df1.tail(5)\n",
    "list_y1 = df1['Wedding cost']\n",
    "list_x1 = df1['Attendance']\n",
    "print(df1['Wedding cost'])"
   ]
  },
  {
   "cell_type": "code",
   "execution_count": 18,
   "metadata": {},
   "outputs": [
    {
     "name": "stdout",
     "output_type": "stream",
     "text": [
      "Mean of the exploratory (independent) variable =  184.0\n",
      "Mean of response (dependent) variable =  25848.0\n",
      "Covariance between exploratory and response variables =  724341.6667\n",
      "Variance of exploratory (independent) variable =  5566.6667\n",
      "beta_1_hat (slope of the best fit straight line) =  130.121257\n",
      "beta_0_hat (intercept of the best fit straight line) =  1905.688712\n",
      "Response value list is  [40942.07, 47448.13, 21423.88, 27929.94, 34436.0, 21423.88, 34436.0, 40942.07, 34436.0, 27929.94, 21423.88, 27929.94, 27929.94, 27929.94, 27929.94, 27929.94, 14917.81, 21423.88, 27929.94, 21423.88, 14917.81, 14917.81, 21423.88, 8411.75, 8411.75]\n",
      "Errors or Residuals of Predicted Response value and Actual Exploratory value = [19757.93, 4551.87, 25576.12, 14070.06, -436.0, 9076.12, -4436.0, -10942.07, -6436.0, -1929.94, 3576.12, -3929.94, -3929.94, -5929.94, -7929.94, -7929.94, 5082.19, -2423.88, -8929.94, -3423.88, 1082.19, -917.81, -8423.88, -1411.75, -3411.75]\n",
      "Sum of Residuals of Predicted and Actual Response Values =  -0.0\n",
      "Sum Squared Residuals of Predicted and Actual Response Values =  1944708176.7352\n",
      "Correlation between Exploratory and Response variables =  0.7333\n",
      "R-square between Exploratory and Response variables =  53.7718\n",
      "Goodness of fit : 53.7718 % of the Response Variable values are explained by the line of best fit\n"
     ]
    },
    {
     "data": {
      "text/html": [
       "<div>\n",
       "<style scoped>\n",
       "    .dataframe tbody tr th:only-of-type {\n",
       "        vertical-align: middle;\n",
       "    }\n",
       "\n",
       "    .dataframe tbody tr th {\n",
       "        vertical-align: top;\n",
       "    }\n",
       "\n",
       "    .dataframe thead th {\n",
       "        text-align: right;\n",
       "    }\n",
       "</style>\n",
       "<table border=\"1\" class=\"dataframe\">\n",
       "  <thead>\n",
       "    <tr style=\"text-align: right;\">\n",
       "      <th></th>\n",
       "      <th>X Mean</th>\n",
       "      <th>Y Mean</th>\n",
       "      <th>Beta-0(Slope)</th>\n",
       "      <th>Beta-1(Intercept)</th>\n",
       "      <th>SumOfResiduals</th>\n",
       "      <th>SumSquareResiduals</th>\n",
       "      <th>R-XY(Correlation)</th>\n",
       "      <th>R-Square-XY</th>\n",
       "      <th>Goodness of fit(%)</th>\n",
       "    </tr>\n",
       "  </thead>\n",
       "  <tbody>\n",
       "    <tr>\n",
       "      <th>0</th>\n",
       "      <td>184.0</td>\n",
       "      <td>25848.0</td>\n",
       "      <td>130.121257</td>\n",
       "      <td>1905.688712</td>\n",
       "      <td>-0.0</td>\n",
       "      <td>1.944708e+09</td>\n",
       "      <td>0.73</td>\n",
       "      <td>53.77</td>\n",
       "      <td>53.77</td>\n",
       "    </tr>\n",
       "  </tbody>\n",
       "</table>\n",
       "</div>"
      ],
      "text/plain": [
       "   X Mean   Y Mean  Beta-0(Slope)  Beta-1(Intercept)  SumOfResiduals  \\\n",
       "0   184.0  25848.0     130.121257        1905.688712            -0.0   \n",
       "\n",
       "   SumSquareResiduals  R-XY(Correlation)  R-Square-XY  Goodness of fit(%)  \n",
       "0        1.944708e+09               0.73        53.77               53.77  "
      ]
     },
     "execution_count": 18,
     "metadata": {},
     "output_type": "execute_result"
    },
    {
     "data": {
      "image/png": "[encoded data removed]",
      "text/plain": [
       "<Figure size 432x288 with 1 Axes>"
      ]
     },
     "metadata": {
      "needs_background": "light"
     },
     "output_type": "display_data"
    }
   ],
   "source": [
    "my_newdf2 = do_all_regression_stuff(list_x1, list_y1)\n",
    "my_newdf2.head(2)"
   ]
  },
  {
   "cell_type": "markdown",
   "metadata": {},
   "source": [
    "## Linear Regression Data set = Student Grades"
   ]
  },
  {
   "cell_type": "code",
   "execution_count": 19,
   "metadata": {},
   "outputs": [
    {
     "data": {
      "text/html": [
       "<div>\n",
       "<style scoped>\n",
       "    .dataframe tbody tr th:only-of-type {\n",
       "        vertical-align: middle;\n",
       "    }\n",
       "\n",
       "    .dataframe tbody tr th {\n",
       "        vertical-align: top;\n",
       "    }\n",
       "\n",
       "    .dataframe thead th {\n",
       "        text-align: right;\n",
       "    }\n",
       "</style>\n",
       "<table border=\"1\" class=\"dataframe\">\n",
       "  <thead>\n",
       "    <tr style=\"text-align: right;\">\n",
       "      <th></th>\n",
       "      <th>Student</th>\n",
       "      <th>Midterm</th>\n",
       "      <th>Final Exam</th>\n",
       "    </tr>\n",
       "  </thead>\n",
       "  <tbody>\n",
       "    <tr>\n",
       "      <th>0</th>\n",
       "      <td>1</td>\n",
       "      <td>76</td>\n",
       "      <td>65</td>\n",
       "    </tr>\n",
       "    <tr>\n",
       "      <th>1</th>\n",
       "      <td>2</td>\n",
       "      <td>84</td>\n",
       "      <td>90</td>\n",
       "    </tr>\n",
       "    <tr>\n",
       "      <th>2</th>\n",
       "      <td>3</td>\n",
       "      <td>79</td>\n",
       "      <td>68</td>\n",
       "    </tr>\n",
       "    <tr>\n",
       "      <th>3</th>\n",
       "      <td>4</td>\n",
       "      <td>88</td>\n",
       "      <td>84</td>\n",
       "    </tr>\n",
       "    <tr>\n",
       "      <th>4</th>\n",
       "      <td>5</td>\n",
       "      <td>76</td>\n",
       "      <td>61</td>\n",
       "    </tr>\n",
       "  </tbody>\n",
       "</table>\n",
       "</div>"
      ],
      "text/plain": [
       "   Student  Midterm  Final Exam\n",
       "0        1       76          65\n",
       "1        2       84          90\n",
       "2        3       79          68\n",
       "3        4       88          84\n",
       "4        5       76          61"
      ]
     },
     "execution_count": 19,
     "metadata": {},
     "output_type": "execute_result"
    },
    {
     "data": {
      "text/html": [
       "<div>\n",
       "<style scoped>\n",
       "    .dataframe tbody tr th:only-of-type {\n",
       "        vertical-align: middle;\n",
       "    }\n",
       "\n",
       "    .dataframe tbody tr th {\n",
       "        vertical-align: top;\n",
       "    }\n",
       "\n",
       "    .dataframe thead th {\n",
       "        text-align: right;\n",
       "    }\n",
       "</style>\n",
       "<table border=\"1\" class=\"dataframe\">\n",
       "  <thead>\n",
       "    <tr style=\"text-align: right;\">\n",
       "      <th></th>\n",
       "      <th>Student</th>\n",
       "      <th>Midterm</th>\n",
       "      <th>Final Exam</th>\n",
       "    </tr>\n",
       "  </thead>\n",
       "  <tbody>\n",
       "    <tr>\n",
       "      <th>51</th>\n",
       "      <td>52</td>\n",
       "      <td>80</td>\n",
       "      <td>72</td>\n",
       "    </tr>\n",
       "    <tr>\n",
       "      <th>52</th>\n",
       "      <td>53</td>\n",
       "      <td>62</td>\n",
       "      <td>79</td>\n",
       "    </tr>\n",
       "    <tr>\n",
       "      <th>53</th>\n",
       "      <td>54</td>\n",
       "      <td>70</td>\n",
       "      <td>75</td>\n",
       "    </tr>\n",
       "    <tr>\n",
       "      <th>54</th>\n",
       "      <td>55</td>\n",
       "      <td>87</td>\n",
       "      <td>90</td>\n",
       "    </tr>\n",
       "    <tr>\n",
       "      <th>55</th>\n",
       "      <td>56</td>\n",
       "      <td>89</td>\n",
       "      <td>95</td>\n",
       "    </tr>\n",
       "  </tbody>\n",
       "</table>\n",
       "</div>"
      ],
      "text/plain": [
       "    Student  Midterm  Final Exam\n",
       "51       52       80          72\n",
       "52       53       62          79\n",
       "53       54       70          75\n",
       "54       55       87          90\n",
       "55       56       89          95"
      ]
     },
     "execution_count": 19,
     "metadata": {},
     "output_type": "execute_result"
    }
   ],
   "source": [
    "df3 = pd.read_csv(\"c:/users/utpal.datta/desktop/Regr_Data_set/StudentGrades.csv\")\n",
    "df3.head(5)\n",
    "df3.tail(5)\n",
    "list_y3 = df3['Final Exam']\n",
    "list_x3 = df3['Midterm']"
   ]
  },
  {
   "cell_type": "code",
   "execution_count": 20,
   "metadata": {},
   "outputs": [
    {
     "name": "stdout",
     "output_type": "stream",
     "text": [
      "Mean of the exploratory (independent) variable =  79.07\n",
      "Mean of response (dependent) variable =  80.7\n",
      "Covariance between exploratory and response variables =  77.313\n",
      "Variance of exploratory (independent) variable =  124.8675\n",
      "beta_1_hat (slope of the best fit straight line) =  0.61916\n",
      "beta_0_hat (intercept of the best fit straight line) =  31.743019\n",
      "Response value list is  [78.8, 83.75, 80.66, 86.23, 78.8, 72.61, 79.42, 89.94, 72.61, 88.71, 81.28, 85.61, 84.99, 70.75, 88.71, 78.18, 74.47, 88.71, 80.66, 68.89, 73.85, 75.7, 69.51, 73.85, 78.8, 76.32, 93.04, 67.65, 82.51, 76.32, 79.42, 90.56, 76.32, 75.7, 76.32, 91.18, 76.32, 86.85, 89.94, 84.37, 68.89, 72.61, 91.18, 83.13, 86.23, 88.71, 80.04, 84.37, 88.09, 77.56, 91.18, 81.28, 70.13, 75.08, 85.61, 86.85]\n",
      "Errors or Residuals of Predicted Response value and Actual Exploratory value = [-13.8, 6.25, -12.66, -2.23, -17.8, 6.39, -6.42, 3.06, -12.61, -2.71, -28.28, -2.61, -29.99, 1.25, -1.71, 10.82, 6.53, 5.29, -2.66, 2.11, 10.15, -1.7, 4.49, -19.85, 15.2, 2.68, -4.04, -14.65, -4.51, 5.68, -10.42, 7.44, 16.68, 4.3, 5.68, 4.82, -15.32, -2.85, 7.06, 4.63, 3.11, 20.39, -7.18, 3.87, 12.77, 8.29, 11.96, 8.63, -10.09, 4.44, 7.82, -9.28, 8.87, -0.08, 4.39, 8.15]\n",
      "Sum of Residuals of Predicted and Actual Response Values =  -0.3\n",
      "Sum Squared Residuals of Predicted and Actual Response Values =  6125.5877\n",
      "Correlation between Exploratory and Response variables =  0.5483\n",
      "R-square between Exploratory and Response variables =  30.0622\n",
      "Goodness of fit : 30.0622 % of the Response Variable values are explained by the line of best fit\n"
     ]
    },
    {
     "data": {
      "text/html": [
       "<div>\n",
       "<style scoped>\n",
       "    .dataframe tbody tr th:only-of-type {\n",
       "        vertical-align: middle;\n",
       "    }\n",
       "\n",
       "    .dataframe tbody tr th {\n",
       "        vertical-align: top;\n",
       "    }\n",
       "\n",
       "    .dataframe thead th {\n",
       "        text-align: right;\n",
       "    }\n",
       "</style>\n",
       "<table border=\"1\" class=\"dataframe\">\n",
       "  <thead>\n",
       "    <tr style=\"text-align: right;\">\n",
       "      <th></th>\n",
       "      <th>X Mean</th>\n",
       "      <th>Y Mean</th>\n",
       "      <th>Beta-0(Slope)</th>\n",
       "      <th>Beta-1(Intercept)</th>\n",
       "      <th>SumOfResiduals</th>\n",
       "      <th>SumSquareResiduals</th>\n",
       "      <th>R-XY(Correlation)</th>\n",
       "      <th>R-Square-XY</th>\n",
       "      <th>Goodness of fit(%)</th>\n",
       "    </tr>\n",
       "  </thead>\n",
       "  <tbody>\n",
       "    <tr>\n",
       "      <th>0</th>\n",
       "      <td>79.07</td>\n",
       "      <td>80.7</td>\n",
       "      <td>0.61916</td>\n",
       "      <td>31.743019</td>\n",
       "      <td>-0.3</td>\n",
       "      <td>6125.5877</td>\n",
       "      <td>0.55</td>\n",
       "      <td>30.06</td>\n",
       "      <td>30.06</td>\n",
       "    </tr>\n",
       "  </tbody>\n",
       "</table>\n",
       "</div>"
      ],
      "text/plain": [
       "   X Mean  Y Mean  Beta-0(Slope)  Beta-1(Intercept)  SumOfResiduals  \\\n",
       "0   79.07    80.7        0.61916          31.743019            -0.3   \n",
       "\n",
       "   SumSquareResiduals  R-XY(Correlation)  R-Square-XY  Goodness of fit(%)  \n",
       "0           6125.5877               0.55        30.06               30.06  "
      ]
     },
     "execution_count": 20,
     "metadata": {},
     "output_type": "execute_result"
    },
    {
     "data": {
      "image/png": "[encoded data removed]",
      "text/plain": [
       "<Figure size 432x288 with 1 Axes>"
      ]
     },
     "metadata": {
      "needs_background": "light"
     },
     "output_type": "display_data"
    }
   ],
   "source": [
    "my_newdf3 = do_all_regression_stuff(list_x3, list_y3)\n",
    "my_newdf3.head(2)"
   ]
  },
  {
   "cell_type": "markdown",
   "metadata": {},
   "source": [
    "## This is the new addition to the existing \"Regression with charts\" notebook. Only scikitlearn is used for these prediction (one case with 2 Independent Variables and the other case with 4 Independent Variables to predict the result)\n",
    "\n",
    "### Three previous examples of \"Simple (Single Independent Variable\") are also tested with the results obtained from scikitlearn and the results match"
   ]
  },
  {
   "cell_type": "markdown",
   "metadata": {},
   "source": [
    "## Multivariate Linear Regression\n",
    "\n",
    "This is the **Linear Regression** where the **Dependent Variable** depends on **more than one** Independent variable as opposed to a **Single** Independent variable as we used in the earlier cases.\n",
    "\n",
    "As opposed to the equation ***y = b-0 + b-1*.x*** the **Multivariate Linear Regression** takes the form ***y = b-0 + b-1*.x-1 + b-2*.x-2 + .......+ b-n*.x-n*** for \"n\" **Independent Variables** that influence the value of the **Dependent Variable**\n",
    "\n",
    "In this case we will use python **scikitlearn library** to create or model for Linear Regression.\n",
    "\n",
    "The call to the **Linear Regression** model returned by the call to the scikitlearn library takes **an array of arrays** of parameters (one for each independent variable) and returns **an array** of **Coefficients (b-1, b-2, ...b-n)**. It also returns the single **Intercept (b-0)**.\n",
    "\n",
    "The model also returns a **score** which is same as the **R-squared (Goodness of Fit)** as we have calculated before.\n",
    "\n",
    "It is also possible to obtain other **Measures** of the correctness of the model as seen in the last example of this notebook. \n",
    "\n",
    "A degenerate case of this generic model for **Multivariate Linear Regression** is the case of **Simple Linear Regression** where a single **array of parameters** are passed in (representing the Single Independent Variable) and a Single **Coefficient** and the **Intercept** are returned by the model, which matches with the **Coefficient (Slope)** and **Intercept** as we calculated in our previous method.\n",
    "\n",
    "We will also use a format where an **Array** of Independent Variables (2 in first case and 1 in next three cases) are passed into the **Regression Model** that we otained as the Linear Regression model.\n",
    "\n",
    "The **Regression Model** obtained from scikitlearn returns the **Coefficient** (which we called **Slope**) and **Intercept** (which we also called **Intercept**)\n",
    "\n",
    "The Coefficient (Slope) and the Intercept are used to predict the Stock Price based on 2 Independent Variables **Interest Rate** and **Unemployment Rate** in the first case and also to draw the **Best Fit** line for **Simple Linear Regression** and predict the Dependent Variable values (House Price, Wedding Cost and Final Grade) in the next three cases.\n",
    "\n",
    "The scikitlearn model also prints the **R-Squared value (Goodness of Fit)** as we calculated in the 3 examples of **Simple Linear Regression** exercise before"
   ]
  },
  {
   "cell_type": "code",
   "execution_count": 3,
   "metadata": {},
   "outputs": [],
   "source": [
    "import matplotlib.pyplot as plt\n",
    "import numpy as np\n",
    "import pandas as pd\n",
    "from sklearn import linear_model\n",
    "import scipy.stats as stats"
   ]
  },
  {
   "cell_type": "code",
   "execution_count": 5,
   "metadata": {},
   "outputs": [],
   "source": [
    "stock_market = pd.read_csv('C:/Users/utpal/Desktop/Regr_data_set/InterestRate.csv')"
   ]
  },
  {
   "cell_type": "code",
   "execution_count": 6,
   "metadata": {},
   "outputs": [
    {
     "data": {
      "text/html": [
       "<div>\n",
       "<style scoped>\n",
       "    .dataframe tbody tr th:only-of-type {\n",
       "        vertical-align: middle;\n",
       "    }\n",
       "\n",
       "    .dataframe tbody tr th {\n",
       "        vertical-align: top;\n",
       "    }\n",
       "\n",
       "    .dataframe thead th {\n",
       "        text-align: right;\n",
       "    }\n",
       "</style>\n",
       "<table border=\"1\" class=\"dataframe\">\n",
       "  <thead>\n",
       "    <tr style=\"text-align: right;\">\n",
       "      <th></th>\n",
       "      <th>Year</th>\n",
       "      <th>Month</th>\n",
       "      <th>Interest_Rate</th>\n",
       "      <th>Unemployment_Rate</th>\n",
       "      <th>Stock_Index_Price</th>\n",
       "    </tr>\n",
       "  </thead>\n",
       "  <tbody>\n",
       "    <tr>\n",
       "      <th>0</th>\n",
       "      <td>2017</td>\n",
       "      <td>12</td>\n",
       "      <td>2.75</td>\n",
       "      <td>5.3</td>\n",
       "      <td>1464</td>\n",
       "    </tr>\n",
       "    <tr>\n",
       "      <th>1</th>\n",
       "      <td>2017</td>\n",
       "      <td>11</td>\n",
       "      <td>2.50</td>\n",
       "      <td>5.3</td>\n",
       "      <td>1394</td>\n",
       "    </tr>\n",
       "    <tr>\n",
       "      <th>2</th>\n",
       "      <td>2017</td>\n",
       "      <td>10</td>\n",
       "      <td>2.50</td>\n",
       "      <td>5.3</td>\n",
       "      <td>1357</td>\n",
       "    </tr>\n",
       "    <tr>\n",
       "      <th>3</th>\n",
       "      <td>2017</td>\n",
       "      <td>9</td>\n",
       "      <td>2.50</td>\n",
       "      <td>5.3</td>\n",
       "      <td>1293</td>\n",
       "    </tr>\n",
       "    <tr>\n",
       "      <th>4</th>\n",
       "      <td>2017</td>\n",
       "      <td>8</td>\n",
       "      <td>2.50</td>\n",
       "      <td>5.4</td>\n",
       "      <td>1256</td>\n",
       "    </tr>\n",
       "    <tr>\n",
       "      <th>5</th>\n",
       "      <td>2017</td>\n",
       "      <td>7</td>\n",
       "      <td>2.50</td>\n",
       "      <td>5.6</td>\n",
       "      <td>1254</td>\n",
       "    </tr>\n",
       "    <tr>\n",
       "      <th>6</th>\n",
       "      <td>2017</td>\n",
       "      <td>6</td>\n",
       "      <td>2.50</td>\n",
       "      <td>5.5</td>\n",
       "      <td>1234</td>\n",
       "    </tr>\n",
       "    <tr>\n",
       "      <th>7</th>\n",
       "      <td>2017</td>\n",
       "      <td>5</td>\n",
       "      <td>2.25</td>\n",
       "      <td>5.5</td>\n",
       "      <td>1195</td>\n",
       "    </tr>\n",
       "    <tr>\n",
       "      <th>8</th>\n",
       "      <td>2017</td>\n",
       "      <td>4</td>\n",
       "      <td>2.25</td>\n",
       "      <td>5.5</td>\n",
       "      <td>1159</td>\n",
       "    </tr>\n",
       "    <tr>\n",
       "      <th>9</th>\n",
       "      <td>2017</td>\n",
       "      <td>3</td>\n",
       "      <td>2.25</td>\n",
       "      <td>5.6</td>\n",
       "      <td>1167</td>\n",
       "    </tr>\n",
       "    <tr>\n",
       "      <th>10</th>\n",
       "      <td>2017</td>\n",
       "      <td>2</td>\n",
       "      <td>2.00</td>\n",
       "      <td>5.7</td>\n",
       "      <td>1130</td>\n",
       "    </tr>\n",
       "    <tr>\n",
       "      <th>11</th>\n",
       "      <td>2017</td>\n",
       "      <td>1</td>\n",
       "      <td>2.00</td>\n",
       "      <td>5.9</td>\n",
       "      <td>1075</td>\n",
       "    </tr>\n",
       "    <tr>\n",
       "      <th>12</th>\n",
       "      <td>2016</td>\n",
       "      <td>12</td>\n",
       "      <td>2.00</td>\n",
       "      <td>6.0</td>\n",
       "      <td>1047</td>\n",
       "    </tr>\n",
       "    <tr>\n",
       "      <th>13</th>\n",
       "      <td>2016</td>\n",
       "      <td>11</td>\n",
       "      <td>1.75</td>\n",
       "      <td>5.9</td>\n",
       "      <td>965</td>\n",
       "    </tr>\n",
       "    <tr>\n",
       "      <th>14</th>\n",
       "      <td>2016</td>\n",
       "      <td>10</td>\n",
       "      <td>1.75</td>\n",
       "      <td>5.8</td>\n",
       "      <td>943</td>\n",
       "    </tr>\n",
       "    <tr>\n",
       "      <th>15</th>\n",
       "      <td>2016</td>\n",
       "      <td>9</td>\n",
       "      <td>1.75</td>\n",
       "      <td>6.1</td>\n",
       "      <td>958</td>\n",
       "    </tr>\n",
       "    <tr>\n",
       "      <th>16</th>\n",
       "      <td>2016</td>\n",
       "      <td>8</td>\n",
       "      <td>1.75</td>\n",
       "      <td>6.2</td>\n",
       "      <td>971</td>\n",
       "    </tr>\n",
       "    <tr>\n",
       "      <th>17</th>\n",
       "      <td>2016</td>\n",
       "      <td>7</td>\n",
       "      <td>1.75</td>\n",
       "      <td>6.1</td>\n",
       "      <td>949</td>\n",
       "    </tr>\n",
       "    <tr>\n",
       "      <th>18</th>\n",
       "      <td>2016</td>\n",
       "      <td>6</td>\n",
       "      <td>1.75</td>\n",
       "      <td>6.1</td>\n",
       "      <td>884</td>\n",
       "    </tr>\n",
       "    <tr>\n",
       "      <th>19</th>\n",
       "      <td>2016</td>\n",
       "      <td>5</td>\n",
       "      <td>1.75</td>\n",
       "      <td>6.1</td>\n",
       "      <td>866</td>\n",
       "    </tr>\n",
       "  </tbody>\n",
       "</table>\n",
       "</div>"
      ],
      "text/plain": [
       "    Year  Month  Interest_Rate  Unemployment_Rate  Stock_Index_Price\n",
       "0   2017     12           2.75                5.3               1464\n",
       "1   2017     11           2.50                5.3               1394\n",
       "2   2017     10           2.50                5.3               1357\n",
       "3   2017      9           2.50                5.3               1293\n",
       "4   2017      8           2.50                5.4               1256\n",
       "5   2017      7           2.50                5.6               1254\n",
       "6   2017      6           2.50                5.5               1234\n",
       "7   2017      5           2.25                5.5               1195\n",
       "8   2017      4           2.25                5.5               1159\n",
       "9   2017      3           2.25                5.6               1167\n",
       "10  2017      2           2.00                5.7               1130\n",
       "11  2017      1           2.00                5.9               1075\n",
       "12  2016     12           2.00                6.0               1047\n",
       "13  2016     11           1.75                5.9                965\n",
       "14  2016     10           1.75                5.8                943\n",
       "15  2016      9           1.75                6.1                958\n",
       "16  2016      8           1.75                6.2                971\n",
       "17  2016      7           1.75                6.1                949\n",
       "18  2016      6           1.75                6.1                884\n",
       "19  2016      5           1.75                6.1                866"
      ]
     },
     "execution_count": 6,
     "metadata": {},
     "output_type": "execute_result"
    }
   ],
   "source": [
    "stock_market.head(20)"
   ]
  },
  {
   "cell_type": "markdown",
   "metadata": {},
   "source": [
    "## Use a Scatterplot to see possible relationships between Predicted Variable (Stock Price) and two different Independent Variables (Interest Rate and Unemployment Rate). These are also called Factors)"
   ]
  },
  {
   "cell_type": "code",
   "execution_count": 7,
   "metadata": {},
   "outputs": [
    {
     "data": {
      "image/png": "[encoded data removed]",
      "text/plain": [
       "<Figure size 432x288 with 1 Axes>"
      ]
     },
     "metadata": {
      "needs_background": "light"
     },
     "output_type": "display_data"
    },
    {
     "data": {
      "image/png": "[encoded data removed]",
      "text/plain": [
       "<Figure size 432x288 with 1 Axes>"
      ]
     },
     "metadata": {
      "needs_background": "light"
     },
     "output_type": "display_data"
    }
   ],
   "source": [
    "plt.scatter(stock_market['Interest_Rate'], stock_market['Stock_Index_Price'], color='red')\n",
    "plt.title('Stock Index Price Vs Interest Rate', fontsize=14)\n",
    "plt.xlabel('Interest Rate', fontsize=14)\n",
    "plt.ylabel('Stock Index Price', fontsize=14)\n",
    "plt.grid(True)\n",
    "plt.show()\n",
    " \n",
    "plt.scatter(stock_market['Unemployment_Rate'], stock_market['Stock_Index_Price'], color='green')\n",
    "plt.title('Stock Index Price Vs Unemployment Rate', fontsize=14)\n",
    "plt.xlabel('Unemployment Rate', fontsize=14)\n",
    "plt.ylabel('Stock Index Price', fontsize=14)\n",
    "plt.grid(True)\n",
    "plt.show()"
   ]
  },
  {
   "cell_type": "code",
   "execution_count": 8,
   "metadata": {},
   "outputs": [
    {
     "name": "stdout",
     "output_type": "stream",
     "text": [
      "Intercept: \n",
      " 1798.4039776258564\n",
      "Coefficients: \n",
      " [ 345.54008701 -250.14657137]\n"
     ]
    },
    {
     "data": {
      "text/plain": [
       "0.8976335894170216"
      ]
     },
     "execution_count": 8,
     "metadata": {},
     "output_type": "execute_result"
    }
   ],
   "source": [
    "X = stock_market[['Interest_Rate','Unemployment_Rate']] # here we have 2 variables for multiple regression. If you just want to use one variable for simple linear regression, then use X = df['Interest_Rate'] for example.Alternatively, you may add additional variables within the brackets\n",
    "Y = stock_market['Stock_Index_Price']\n",
    " \n",
    "# with sklearn\n",
    "regr = linear_model.LinearRegression()\n",
    "regr.fit(X, Y)\n",
    "\n",
    "print('Intercept: \\n', regr.intercept_)\n",
    "print('Coefficients: \\n', regr.coef_)\n",
    "\n",
    "regr.score(X, Y)"
   ]
  },
  {
   "cell_type": "markdown",
   "metadata": {},
   "source": [
    "## Predict a Stock Price for a randomly selected Interest Rate and Unemployment Rate"
   ]
  },
  {
   "cell_type": "code",
   "execution_count": 9,
   "metadata": {},
   "outputs": [
    {
     "name": "stdout",
     "output_type": "stream",
     "text": [
      "Predicted Stock Index Price: \n",
      " [1422.86238865]\n"
     ]
    }
   ],
   "source": [
    "# prediction with sklearn\n",
    "New_Interest_Rate = 2.75\n",
    "New_Unemployment_Rate = 5.3\n",
    "print ('Predicted Stock Index Price: \\n', regr.predict([[New_Interest_Rate ,New_Unemployment_Rate]]))"
   ]
  },
  {
   "cell_type": "markdown",
   "metadata": {},
   "source": [
    "## Predicting House Price using Linear Regression Model from scikitLearn"
   ]
  },
  {
   "cell_type": "code",
   "execution_count": 10,
   "metadata": {},
   "outputs": [
    {
     "name": "stdout",
     "output_type": "stream",
     "text": [
      "Intercept: \n",
      " 98.24832962138083\n",
      "Coefficients: \n",
      " [0.10976774]\n"
     ]
    },
    {
     "data": {
      "text/plain": [
       "0.5808173118722726"
      ]
     },
     "execution_count": 10,
     "metadata": {},
     "output_type": "execute_result"
    }
   ],
   "source": [
    "house_price = pd.read_csv(\"c:/users/utpal/desktop/Regr_data_set/HousePrices.csv\")\n",
    "house_price.head(10)\n",
    "x = house_price[['Square Footage']]\n",
    "y = house_price['House Price']\n",
    "\n",
    "# with sklearn\n",
    "regr = linear_model.LinearRegression()\n",
    "regr.fit(x, y)\n",
    "\n",
    "print('Intercept: \\n', regr.intercept_)\n",
    "print('Coefficients: \\n', regr.coef_)\n",
    "\n",
    "regr.score(x, y)"
   ]
  },
  {
   "cell_type": "markdown",
   "metadata": {},
   "source": [
    "## Predicting Wedding Cost using Linear Regression Model from scikitLearn"
   ]
  },
  {
   "cell_type": "code",
   "execution_count": 12,
   "metadata": {},
   "outputs": [
    {
     "name": "stdout",
     "output_type": "stream",
     "text": [
      "Intercept: \n",
      " 1905.6886227544783\n",
      "Coefficients: \n",
      " [130.12125749]\n"
     ]
    },
    {
     "data": {
      "text/plain": [
       "0.5377184992361959"
      ]
     },
     "execution_count": 12,
     "metadata": {},
     "output_type": "execute_result"
    }
   ],
   "source": [
    "weddings = pd.read_csv(\"c:/users/utpal/desktop/Regr_data_set/Weddings.csv\")\n",
    "weddings.head(5)\n",
    "weddings.tail(5)\n",
    "x = weddings[['Attendance']]\n",
    "y = weddings['Wedding cost']\n",
    "\n",
    "# with sklearn\n",
    "regr = linear_model.LinearRegression()\n",
    "regr.fit(x, y)\n",
    "\n",
    "print('Intercept: \\n', regr.intercept_)\n",
    "print('Coefficients: \\n', regr.coef_)\n",
    "\n",
    "regr.score(x, y)"
   ]
  },
  {
   "cell_type": "markdown",
   "metadata": {},
   "source": [
    "## Predicting Final Student Grade using Linear Regression Model from scikitLearn"
   ]
  },
  {
   "cell_type": "code",
   "execution_count": 32,
   "metadata": {},
   "outputs": [
    {
     "name": "stdout",
     "output_type": "stream",
     "text": [
      "Intercept: \n",
      " 31.738559304405683\n",
      "Coefficients: \n",
      " [0.61916004]\n"
     ]
    },
    {
     "data": {
      "text/plain": [
       "0.3006222313867485"
      ]
     },
     "execution_count": 32,
     "metadata": {},
     "output_type": "execute_result"
    }
   ],
   "source": [
    "student_grade = pd.read_csv(\"c:/users/utpal/desktop/Regr_Data_set/StudentGrades.csv\")\n",
    "student_grade.head(5)\n",
    "student_grade.tail(5)\n",
    "x = student_grade[['Midterm']]\n",
    "y = student_grade['Final Exam']\n",
    "\n",
    "# with sklearn\n",
    "regr = linear_model.LinearRegression()\n",
    "regr.fit(x, y)\n",
    "\n",
    "print('Intercept: \\n', regr.intercept_)\n",
    "print('Coefficients: \\n', regr.coef_)\n",
    "final_grades = regr.predict(x)\n",
    "\n",
    "regr.score(x, y)"
   ]
  },
  {
   "cell_type": "code",
   "execution_count": 33,
   "metadata": {},
   "outputs": [
    {
     "data": {
      "text/plain": [
       "Text(0, 0.5, 'Final Grades ')"
      ]
     },
     "execution_count": 33,
     "metadata": {},
     "output_type": "execute_result"
    },
    {
     "data": {
      "image/png": "[encoded data removed]",
      "text/plain": [
       "<Figure size 432x288 with 1 Axes>"
      ]
     },
     "metadata": {
      "needs_background": "light"
     },
     "output_type": "display_data"
    }
   ],
   "source": [
    "plt.scatter(student_grade[['Midterm']], student_grade['Final Exam'], color='red', marker='o', s=30)\n",
    "plt.title('Final Grades Vs. Mid Term Grades', fontsize=14)\n",
    "plt.plot(x, final_grades, color = \"g\")\n",
    "plt.xlabel('Mid Term Grades') \n",
    "plt.ylabel('Final Grades ')"
   ]
  },
  {
   "cell_type": "markdown",
   "metadata": {},
   "source": [
    "## A more detailed example of Multivariate Linear Regression using Multiple Independent Factors"
   ]
  },
  {
   "cell_type": "code",
   "execution_count": 15,
   "metadata": {},
   "outputs": [
    {
     "data": {
      "text/html": [
       "<div>\n",
       "<style scoped>\n",
       "    .dataframe tbody tr th:only-of-type {\n",
       "        vertical-align: middle;\n",
       "    }\n",
       "\n",
       "    .dataframe tbody tr th {\n",
       "        vertical-align: top;\n",
       "    }\n",
       "\n",
       "    .dataframe thead th {\n",
       "        text-align: right;\n",
       "    }\n",
       "</style>\n",
       "<table border=\"1\" class=\"dataframe\">\n",
       "  <thead>\n",
       "    <tr style=\"text-align: right;\">\n",
       "      <th></th>\n",
       "      <th>Petrol tax</th>\n",
       "      <th>Average income</th>\n",
       "      <th>Paved Highways</th>\n",
       "      <th>Proportion of population with driver licenses</th>\n",
       "      <th>Consumption of petrol</th>\n",
       "    </tr>\n",
       "  </thead>\n",
       "  <tbody>\n",
       "    <tr>\n",
       "      <th>43</th>\n",
       "      <td>7.0</td>\n",
       "      <td>3745</td>\n",
       "      <td>2611</td>\n",
       "      <td>0.508</td>\n",
       "      <td>591</td>\n",
       "    </tr>\n",
       "    <tr>\n",
       "      <th>44</th>\n",
       "      <td>6.0</td>\n",
       "      <td>5215</td>\n",
       "      <td>2302</td>\n",
       "      <td>0.672</td>\n",
       "      <td>782</td>\n",
       "    </tr>\n",
       "    <tr>\n",
       "      <th>45</th>\n",
       "      <td>9.0</td>\n",
       "      <td>4476</td>\n",
       "      <td>3942</td>\n",
       "      <td>0.571</td>\n",
       "      <td>510</td>\n",
       "    </tr>\n",
       "    <tr>\n",
       "      <th>46</th>\n",
       "      <td>7.0</td>\n",
       "      <td>4296</td>\n",
       "      <td>4083</td>\n",
       "      <td>0.623</td>\n",
       "      <td>610</td>\n",
       "    </tr>\n",
       "    <tr>\n",
       "      <th>47</th>\n",
       "      <td>7.0</td>\n",
       "      <td>5002</td>\n",
       "      <td>9794</td>\n",
       "      <td>0.593</td>\n",
       "      <td>524</td>\n",
       "    </tr>\n",
       "  </tbody>\n",
       "</table>\n",
       "</div>"
      ],
      "text/plain": [
       "    Petrol tax  Average income  Paved Highways  \\\n",
       "43         7.0            3745            2611   \n",
       "44         6.0            5215            2302   \n",
       "45         9.0            4476            3942   \n",
       "46         7.0            4296            4083   \n",
       "47         7.0            5002            9794   \n",
       "\n",
       "    Proportion of population with driver licenses  Consumption of petrol  \n",
       "43                                          0.508                    591  \n",
       "44                                          0.672                    782  \n",
       "45                                          0.571                    510  \n",
       "46                                          0.623                    610  \n",
       "47                                          0.593                    524  "
      ]
     },
     "execution_count": 15,
     "metadata": {},
     "output_type": "execute_result"
    }
   ],
   "source": [
    "petrol_consumption = pd.read_csv(\"c:/users/utpal/desktop/Regr_Data_set/PetrolConsumption.csv\")\n",
    "petrol_consumption.head(50)\n",
    "petrol_consumption.tail(5)"
   ]
  },
  {
   "cell_type": "code",
   "execution_count": 16,
   "metadata": {},
   "outputs": [
    {
     "data": {
      "text/html": [
       "<div>\n",
       "<style scoped>\n",
       "    .dataframe tbody tr th:only-of-type {\n",
       "        vertical-align: middle;\n",
       "    }\n",
       "\n",
       "    .dataframe tbody tr th {\n",
       "        vertical-align: top;\n",
       "    }\n",
       "\n",
       "    .dataframe thead th {\n",
       "        text-align: right;\n",
       "    }\n",
       "</style>\n",
       "<table border=\"1\" class=\"dataframe\">\n",
       "  <thead>\n",
       "    <tr style=\"text-align: right;\">\n",
       "      <th></th>\n",
       "      <th>Petrol tax</th>\n",
       "      <th>Average income</th>\n",
       "      <th>Paved Highways</th>\n",
       "      <th>Proportion of population with driver licenses</th>\n",
       "      <th>Consumption of petrol</th>\n",
       "    </tr>\n",
       "  </thead>\n",
       "  <tbody>\n",
       "    <tr>\n",
       "      <th>count</th>\n",
       "      <td>48.000000</td>\n",
       "      <td>48.000000</td>\n",
       "      <td>48.000000</td>\n",
       "      <td>48.000000</td>\n",
       "      <td>48.000000</td>\n",
       "    </tr>\n",
       "    <tr>\n",
       "      <th>mean</th>\n",
       "      <td>7.657917</td>\n",
       "      <td>4241.833333</td>\n",
       "      <td>5565.416667</td>\n",
       "      <td>0.570333</td>\n",
       "      <td>576.770833</td>\n",
       "    </tr>\n",
       "    <tr>\n",
       "      <th>std</th>\n",
       "      <td>0.955381</td>\n",
       "      <td>573.623768</td>\n",
       "      <td>3491.507166</td>\n",
       "      <td>0.055470</td>\n",
       "      <td>111.885816</td>\n",
       "    </tr>\n",
       "    <tr>\n",
       "      <th>min</th>\n",
       "      <td>5.000000</td>\n",
       "      <td>3063.000000</td>\n",
       "      <td>431.000000</td>\n",
       "      <td>0.451000</td>\n",
       "      <td>344.000000</td>\n",
       "    </tr>\n",
       "    <tr>\n",
       "      <th>25%</th>\n",
       "      <td>7.000000</td>\n",
       "      <td>3739.000000</td>\n",
       "      <td>3110.250000</td>\n",
       "      <td>0.529750</td>\n",
       "      <td>509.500000</td>\n",
       "    </tr>\n",
       "    <tr>\n",
       "      <th>50%</th>\n",
       "      <td>7.500000</td>\n",
       "      <td>4298.000000</td>\n",
       "      <td>4735.500000</td>\n",
       "      <td>0.564500</td>\n",
       "      <td>568.500000</td>\n",
       "    </tr>\n",
       "    <tr>\n",
       "      <th>75%</th>\n",
       "      <td>8.125000</td>\n",
       "      <td>4578.750000</td>\n",
       "      <td>7156.000000</td>\n",
       "      <td>0.595250</td>\n",
       "      <td>632.750000</td>\n",
       "    </tr>\n",
       "    <tr>\n",
       "      <th>max</th>\n",
       "      <td>10.000000</td>\n",
       "      <td>5342.000000</td>\n",
       "      <td>17782.000000</td>\n",
       "      <td>0.724000</td>\n",
       "      <td>968.000000</td>\n",
       "    </tr>\n",
       "  </tbody>\n",
       "</table>\n",
       "</div>"
      ],
      "text/plain": [
       "       Petrol tax  Average income  Paved Highways  \\\n",
       "count   48.000000       48.000000       48.000000   \n",
       "mean     7.657917     4241.833333     5565.416667   \n",
       "std      0.955381      573.623768     3491.507166   \n",
       "min      5.000000     3063.000000      431.000000   \n",
       "25%      7.000000     3739.000000     3110.250000   \n",
       "50%      7.500000     4298.000000     4735.500000   \n",
       "75%      8.125000     4578.750000     7156.000000   \n",
       "max     10.000000     5342.000000    17782.000000   \n",
       "\n",
       "       Proportion of population with driver licenses  Consumption of petrol  \n",
       "count                                      48.000000              48.000000  \n",
       "mean                                        0.570333             576.770833  \n",
       "std                                         0.055470             111.885816  \n",
       "min                                         0.451000             344.000000  \n",
       "25%                                         0.529750             509.500000  \n",
       "50%                                         0.564500             568.500000  \n",
       "75%                                         0.595250             632.750000  \n",
       "max                                         0.724000             968.000000  "
      ]
     },
     "execution_count": 16,
     "metadata": {},
     "output_type": "execute_result"
    }
   ],
   "source": [
    "petrol_consumption.describe()"
   ]
  },
  {
   "cell_type": "code",
   "execution_count": 17,
   "metadata": {},
   "outputs": [],
   "source": [
    "X = petrol_consumption[['Petrol tax', 'Average income', 'Paved Highways', 'Proportion of population with driver licenses']]\n",
    "y = petrol_consumption['Consumption of petrol']"
   ]
  },
  {
   "cell_type": "code",
   "execution_count": 18,
   "metadata": {},
   "outputs": [],
   "source": [
    "from sklearn.model_selection import train_test_split  \n",
    "X_train, X_test, y_train, y_test = train_test_split(X, y, test_size=0.2, random_state=0)"
   ]
  },
  {
   "cell_type": "code",
   "execution_count": 19,
   "metadata": {},
   "outputs": [
    {
     "data": {
      "text/plain": [
       "LinearRegression(copy_X=True, fit_intercept=True, n_jobs=None, normalize=False)"
      ]
     },
     "execution_count": 19,
     "metadata": {},
     "output_type": "execute_result"
    }
   ],
   "source": [
    "# with sklearn\n",
    "regr = linear_model.LinearRegression()\n",
    "regr.fit(X_train, y_train)"
   ]
  },
  {
   "cell_type": "code",
   "execution_count": 20,
   "metadata": {},
   "outputs": [
    {
     "name": "stdout",
     "output_type": "stream",
     "text": [
      "Intercept: \n",
      " 389.6805716931446\n",
      "Coefficients: \n",
      " [-3.68508347e+01 -6.74189068e-02 -4.07700984e-03  1.36973871e+03]\n"
     ]
    }
   ],
   "source": [
    "print('Intercept: \\n', regr.intercept_)\n",
    "print('Coefficients: \\n', regr.coef_)"
   ]
  },
  {
   "cell_type": "markdown",
   "metadata": {},
   "source": [
    "## In case of multivariable linear regression, the regression model has to find the most optimal coefficients for all the attributes. To see what coefficients our regression model has chosen, "
   ]
  },
  {
   "cell_type": "code",
   "execution_count": 21,
   "metadata": {},
   "outputs": [
    {
     "data": {
      "text/html": [
       "<div>\n",
       "<style scoped>\n",
       "    .dataframe tbody tr th:only-of-type {\n",
       "        vertical-align: middle;\n",
       "    }\n",
       "\n",
       "    .dataframe tbody tr th {\n",
       "        vertical-align: top;\n",
       "    }\n",
       "\n",
       "    .dataframe thead th {\n",
       "        text-align: right;\n",
       "    }\n",
       "</style>\n",
       "<table border=\"1\" class=\"dataframe\">\n",
       "  <thead>\n",
       "    <tr style=\"text-align: right;\">\n",
       "      <th></th>\n",
       "      <th>Coefficient</th>\n",
       "    </tr>\n",
       "  </thead>\n",
       "  <tbody>\n",
       "    <tr>\n",
       "      <th>Petrol tax</th>\n",
       "      <td>-36.850835</td>\n",
       "    </tr>\n",
       "    <tr>\n",
       "      <th>Average income</th>\n",
       "      <td>-0.067419</td>\n",
       "    </tr>\n",
       "    <tr>\n",
       "      <th>Paved Highways</th>\n",
       "      <td>-0.004077</td>\n",
       "    </tr>\n",
       "    <tr>\n",
       "      <th>Proportion of population with driver licenses</th>\n",
       "      <td>1369.738713</td>\n",
       "    </tr>\n",
       "  </tbody>\n",
       "</table>\n",
       "</div>"
      ],
      "text/plain": [
       "                                               Coefficient\n",
       "Petrol tax                                      -36.850835\n",
       "Average income                                   -0.067419\n",
       "Paved Highways                                   -0.004077\n",
       "Proportion of population with driver licenses  1369.738713"
      ]
     },
     "execution_count": 21,
     "metadata": {},
     "output_type": "execute_result"
    }
   ],
   "source": [
    "coeff_df = pd.DataFrame(regr.coef_, X.columns, columns=['Coefficient'])  \n",
    "coeff_df "
   ]
  },
  {
   "cell_type": "markdown",
   "metadata": {},
   "source": [
    "## Test the model using the split Test data (20% of the data kept for test, 80% of the data used to train the model"
   ]
  },
  {
   "cell_type": "code",
   "execution_count": 22,
   "metadata": {},
   "outputs": [
    {
     "data": {
      "text/html": [
       "<div>\n",
       "<style scoped>\n",
       "    .dataframe tbody tr th:only-of-type {\n",
       "        vertical-align: middle;\n",
       "    }\n",
       "\n",
       "    .dataframe tbody tr th {\n",
       "        vertical-align: top;\n",
       "    }\n",
       "\n",
       "    .dataframe thead th {\n",
       "        text-align: right;\n",
       "    }\n",
       "</style>\n",
       "<table border=\"1\" class=\"dataframe\">\n",
       "  <thead>\n",
       "    <tr style=\"text-align: right;\">\n",
       "      <th></th>\n",
       "      <th>Actual</th>\n",
       "      <th>Predicted</th>\n",
       "    </tr>\n",
       "  </thead>\n",
       "  <tbody>\n",
       "    <tr>\n",
       "      <th>29</th>\n",
       "      <td>534</td>\n",
       "      <td>471.570666</td>\n",
       "    </tr>\n",
       "    <tr>\n",
       "      <th>4</th>\n",
       "      <td>410</td>\n",
       "      <td>541.678792</td>\n",
       "    </tr>\n",
       "    <tr>\n",
       "      <th>26</th>\n",
       "      <td>577</td>\n",
       "      <td>591.018542</td>\n",
       "    </tr>\n",
       "    <tr>\n",
       "      <th>30</th>\n",
       "      <td>571</td>\n",
       "      <td>567.692808</td>\n",
       "    </tr>\n",
       "    <tr>\n",
       "      <th>32</th>\n",
       "      <td>577</td>\n",
       "      <td>653.480347</td>\n",
       "    </tr>\n",
       "    <tr>\n",
       "      <th>37</th>\n",
       "      <td>704</td>\n",
       "      <td>645.628427</td>\n",
       "    </tr>\n",
       "    <tr>\n",
       "      <th>34</th>\n",
       "      <td>487</td>\n",
       "      <td>509.833595</td>\n",
       "    </tr>\n",
       "    <tr>\n",
       "      <th>40</th>\n",
       "      <td>587</td>\n",
       "      <td>670.321198</td>\n",
       "    </tr>\n",
       "    <tr>\n",
       "      <th>7</th>\n",
       "      <td>467</td>\n",
       "      <td>498.033439</td>\n",
       "    </tr>\n",
       "    <tr>\n",
       "      <th>10</th>\n",
       "      <td>580</td>\n",
       "      <td>500.585631</td>\n",
       "    </tr>\n",
       "  </tbody>\n",
       "</table>\n",
       "</div>"
      ],
      "text/plain": [
       "    Actual   Predicted\n",
       "29     534  471.570666\n",
       "4      410  541.678792\n",
       "26     577  591.018542\n",
       "30     571  567.692808\n",
       "32     577  653.480347\n",
       "37     704  645.628427\n",
       "34     487  509.833595\n",
       "40     587  670.321198\n",
       "7      467  498.033439\n",
       "10     580  500.585631"
      ]
     },
     "execution_count": 22,
     "metadata": {},
     "output_type": "execute_result"
    }
   ],
   "source": [
    "y_pred = regr.predict(X_test) \n",
    "df = pd.DataFrame({'Actual': y_test, 'Predicted': y_pred})  \n",
    "df.head(50) "
   ]
  },
  {
   "cell_type": "markdown",
   "metadata": {},
   "source": [
    "## Metrics of the model. R-squared (Goodness of fit) is 67% which is not too bad (can be improved with better and more Training data"
   ]
  },
  {
   "cell_type": "code",
   "execution_count": 23,
   "metadata": {},
   "outputs": [
    {
     "name": "stdout",
     "output_type": "stream",
     "text": [
      "Mean Absolute Error: 56.28883801809803\n",
      "Mean Squared Error: 4543.417840466182\n",
      "Root Mean Squared Error: 67.40487994549194\n"
     ]
    }
   ],
   "source": [
    "from sklearn import metrics  \n",
    "print('Mean Absolute Error:', metrics.mean_absolute_error(y_test, y_pred))  \n",
    "print('Mean Squared Error:', metrics.mean_squared_error(y_test, y_pred))  \n",
    "print('Root Mean Squared Error:', np.sqrt(metrics.mean_squared_error(y_test, y_pred)))  "
   ]
  },
  {
   "cell_type": "code",
   "execution_count": null,
   "metadata": {},
   "outputs": [],
   "source": []
  },
  {
   "cell_type": "code",
   "execution_count": null,
   "metadata": {},
   "outputs": [],
   "source": []
  }
 ],
 "metadata": {
  "kernelspec": {
   "display_name": "Python 3",
   "language": "python",
   "name": "python3"
  },
  "language_info": {
   "codemirror_mode": {
    "name": "ipython",
    "version": 3
   },
   "file_extension": ".py",
   "mimetype": "text/x-python",
   "name": "python",
   "nbconvert_exporter": "python",
   "pygments_lexer": "ipython3",
   "version": "3.7.4"
  }
 },
 "nbformat": 4,
 "nbformat_minor": 2
}

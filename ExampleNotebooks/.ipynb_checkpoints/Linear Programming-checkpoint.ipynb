{
 "cells": [
  {
   "cell_type": "markdown",
   "metadata": {},
   "source": [
    "# Introduction\n",
    "**Linear programming** is the technique used to **maximize or minimize** a function. The idea is to optimize a complex function by best representing them with linear relationships. \n",
    "\n",
    "In simpler terms,in Linear Programming\n",
    "\n",
    "**We try to optimize (to maximize or minimize) a function denoted in linear terms and bounded by linear constraints.**\n",
    "\n",
    "\n",
    "# A Simple Linear Programming Problem\n",
    "## Problem Definition\n",
    "Suppose you are a magical healer and you goal is to heal anyone who asks for help. You want to maximize the number of health issues that You can cure. \n",
    "\n",
    "This is a ***Maximization Problem***. Similar problems can be **Profit Maximization, Production Output Maximization**.\n",
    "\n",
    "There can be other cases where the goal is to minimize, which is a ***Minimization Problem***, such as **Cost Minimization** etc.\n",
    "\n",
    "Your secret behind the healing are **2 medicines**, each of which uses special herbs. \n",
    "\n",
    "To create **one unit of medicine 1 , you need 3 units of herb A and 2 units of herb B**. These are the **Variables** of the Linear Programming equation.\n",
    "\n",
    "Similarly, to create **one unit of medicine 2, you need 4 and 1 units of herb A and B respectively**. These are more details on the requirements of the variables.\n",
    "\n",
    "**Medicine 1 can heal a person by 25 unit of health (whatever it is) and medicine 2 by 20 units**. These are the details to be used in the **Maximization** equation.\n",
    "\n",
    "But, you only have **25 and 10 units of herb A and B** at your disposal. These are the **Constraints** on the availability of the ingredients of the medicines.\n",
    "\n",
    "Now the question is, **how many of each medicine will you create to maximize the health of the next person who walks in?**\n",
    "\n",
    "## Problem Formulation/Modeling\n",
    "The Maximization Function is \n",
    "\n",
    "**Units of Health Issues Restored = 25 * x + 20 * y where**\n",
    "\n",
    "**x = Units of Medicine-1 created, y = Units of Medicine-2 created** \n",
    "\n",
    "The units of Herb A to create x units of Medicine-1 and y units of Medicine-2 is **3 * x + 4 * y**.\n",
    "\n",
    "But the Total Units of Herb A available is 25. So the Constraint function is\n",
    "\n",
    "**3 * x + 4 * y <= 25**\n",
    "\n",
    "Similar Constraint Function for Herb B is\n",
    "\n",
    "**2 * x + y <= 10**\n",
    "\n",
    "Also, the values of x and y should be positive. The corresponding Constraint Functions are\n",
    "\n",
    "**x >= 0 and y >= 0**\n",
    "\n",
    "\n",
    "\n",
    "\n",
    "\n",
    "## Let us use Python PuLP module to solve this Linear Programming (Maximization) problem"
   ]
  },
  {
   "cell_type": "code",
   "execution_count": 2,
   "metadata": {},
   "outputs": [
    {
     "name": "stderr",
     "output_type": "stream",
     "text": [
      "C:\\Users\\jacob\\Anaconda3\\lib\\site-packages\\pulp\\pulp.py:1198: UserWarning: Spaces are not permitted in the name. Converted to '_'\n",
      "  warnings.warn(\"Spaces are not permitted in the name. Converted to '_'\")\n"
     ]
    },
    {
     "data": {
      "text/plain": [
       "1"
      ]
     },
     "execution_count": 2,
     "metadata": {},
     "output_type": "execute_result"
    }
   ],
   "source": [
    "from pulp import *  ## Import everything from PuLP library\n",
    "\n",
    "prob = LpProblem(\"The Miracle Worker\", LpMaximize) # Create the 'prob' variable to contain the problem data\n",
    "\n",
    "x=LpVariable(\"Medicine_1_units\",lowBound=0,cat=LpInteger) # Define the x variable\n",
    "y=LpVariable(\"Medicine_2_units\",lowBound=0, cat=LpInteger) # Define the y variable\n",
    "\n",
    "# The objective function is added to 'prob' first\n",
    "\n",
    "prob += 25*x + 20*y, \"Health restored; to be Maximized\" # First add the Objective (Maximization) function to prob\n",
    "\n",
    "prob += 3*x + 4*y <= 25, \"Herb A constraint\" # Add the first Constraint\n",
    "prob += 2*x + y <= 10, \"Herb B constraint\"  # Add the second Constraint # Solve the problem using PuLP's Linear Programming Solver\n",
    "\n",
    "prob.solve() # Solve the problem using PuLP's Linear Programming Solver\n"
   ]
  },
  {
   "cell_type": "markdown",
   "metadata": {},
   "source": [
    "The output is 1 which is the **Status Code**. There are 5 status codes:\n",
    "\n",
    "**0 - Not Solved:** Status prior to solving the problem.\n",
    "\n",
    "**1 - Optimal:** An optimal solution has been found.\n",
    "\n",
    "**2 - Infeasible:** There are no feasible solutions (e.g. if you set the constraints x <= 1 and x >=2).\n",
    "\n",
    "**3 - Unbounded:** The constraints are not bounded, maximising the solution will tend towards infinity (e.g. if the only constraint was x >= 3).\n",
    "\n",
    "**4 - Undefined:** The optimal solution may exist but may not have been found.\n",
    "\n",
    "We can print out other outputs as follows"
   ]
  },
  {
   "cell_type": "code",
   "execution_count": 3,
   "metadata": {},
   "outputs": [
    {
     "name": "stdout",
     "output_type": "stream",
     "text": [
      "Status: Optimal\n",
      "Medicine_1_units = 3.0\n",
      "Medicine_2_units = 4.0\n",
      "Total Health that can be restored =  155.0\n"
     ]
    }
   ],
   "source": [
    "# The status of the solution is printed to the screen\n",
    "print(\"Status:\", LpStatus[prob.status]) # Status: Optimal\n",
    "\n",
    "# Each of the variables is printed with it's resolved optimum value\n",
    "for v in prob.variables():\n",
    "    print(v.name, \"=\", v.varValue)   # Medicine_1_units to make = 3.0, Medicine_2_units to make = 4.0\n",
    "\n",
    "print(\"Total Health that can be restored = \", value(prob.objective)) # Print the Optimized (Maximized) Objective Function\n",
    "\n",
    "# Maximum Health that can be restored while satisfying the availability Constraints =  155.0"
   ]
  },
  {
   "cell_type": "markdown",
   "metadata": {},
   "source": [
    "# Another example "
   ]
  },
  {
   "cell_type": "markdown",
   "metadata": {},
   "source": [
    "# The Objective Function\n",
    "\n",
    "Z =4x+3y\n",
    "\n",
    "# Subject to the following constraints:\n",
    "\n",
    "**x ≥ 0** \n",
    "\n",
    "**y ≥ 22**        \n",
    "\n",
    "**y ≤ 25–x**       \n",
    "\n",
    "**4y ≥ 2x–8**      \n",
    "\n",
    "**y ≤ 2x−5**"
   ]
  },
  {
   "cell_type": "code",
   "execution_count": 4,
   "metadata": {},
   "outputs": [
    {
     "data": {
      "text/plain": [
       "'Optimal'"
      ]
     },
     "execution_count": 4,
     "metadata": {},
     "output_type": "execute_result"
    }
   ],
   "source": [
    "my_lp_problem = pulp.LpProblem(\"My LP Problem\", pulp.LpMaximize) # Create the problem variable as a LpMaximize\n",
    "\n",
    "x = pulp.LpVariable('x', lowBound=0, cat='Continuous') # Create the x variable\n",
    "y = pulp.LpVariable('y', lowBound=2, cat='Continuous')# Create the y variable\n",
    "\n",
    "# Objective function\n",
    "my_lp_problem += 4 * x + 3 * y\n",
    "\n",
    "# Constraints\n",
    "my_lp_problem += 2 * y <= 25 - x\n",
    "my_lp_problem += 4 * y >= 2 * x - 8\n",
    "my_lp_problem += y <= 2 * x - 5\n",
    "\n",
    "# Solve the problem and print the Status\n",
    "my_lp_problem.solve()\n",
    "pulp.LpStatus[my_lp_problem.status]"
   ]
  },
  {
   "cell_type": "code",
   "execution_count": 5,
   "metadata": {},
   "outputs": [
    {
     "name": "stdout",
     "output_type": "stream",
     "text": [
      "x = 14.5\n",
      "y = 5.25\n"
     ]
    }
   ],
   "source": [
    "for variable in my_lp_problem.variables():     # Print the Variable values for Optimized Objective\n",
    "    print(variable.name, '=', variable.varValue)"
   ]
  },
  {
   "cell_type": "code",
   "execution_count": 6,
   "metadata": {},
   "outputs": [
    {
     "name": "stdout",
     "output_type": "stream",
     "text": [
      "73.75\n"
     ]
    }
   ],
   "source": [
    "print(pulp.value(my_lp_problem.objective)) # Print the Optimized value of the Objective Function"
   ]
  },
  {
   "cell_type": "markdown",
   "metadata": {},
   "source": [
    "# Resourcing Problem¶\n",
    "We’re consulting for a boutique car manufacturer, producing luxury cars.\n",
    "They run on one month (30 days) cycles, we have one cycle to show we can provide value.\n",
    "\n",
    "\n",
    "There is one robot, 2 engineers and one detailer in the factory. The detailer has some holiday off, so only has 21 days available.\n",
    "\n",
    "\n",
    "The 2 cars need different time with each resource:\n",
    "Robot time: Car A – 3 days; Car B – 4 days.\n",
    "Engineer time: Car A – 5 days; Car B – 6 days.\n",
    "Detailer time: Car A – 1.5 days; Car B – 3 days.\n",
    "\n",
    "\n",
    "Car A provides €30,000 profit, whilst Car B offers €45,000 profit.\n",
    "At the moment, they produce 4 of each cars per month, for €300,000 profit. Not bad at all, but we think we can do better for them.\n",
    "\n",
    "\n",
    "**This can be modelled as follows:**\n",
    "\n",
    "\n",
    "**Maximise**\n",
    "\n",
    "\n",
    "**Profit=30,000A+45,000B**\n",
    "\n",
    "**Subject to:\n",
    "A≥0, \n",
    "B≥0, \n",
    "3A+4B≤30, \n",
    "5A+6B≤60, \n",
    "1.5A+3B≤21**\n"
   ]
  },
  {
   "cell_type": "code",
   "execution_count": 7,
   "metadata": {},
   "outputs": [
    {
     "data": {
      "text/plain": [
       "'Optimal'"
      ]
     },
     "execution_count": 7,
     "metadata": {},
     "output_type": "execute_result"
    }
   ],
   "source": [
    "my_lp_problem = pulp.LpProblem(\"My LP Problem\", pulp.LpMaximize) # Create the problem variable as a LpMaximize\n",
    "\n",
    "A = pulp.LpVariable('A', lowBound=0, cat='Continuous') # Create the x variable\n",
    "B = pulp.LpVariable('B', lowBound=2, cat='Continuous')# Create the y variable\n",
    "\n",
    "# Objective function\n",
    "\n",
    "my_lp_problem += 30000 * A + 45000 * B\n",
    "\n",
    "# Constraints\n",
    "my_lp_problem += 3 * A + 4 * B <= 30\n",
    "my_lp_problem += 5 * A + 6 * B <= 60\n",
    "my_lp_problem += 1.5 * A + 3 * B <= 21\n",
    "\n",
    "# Solve the problem and print the Status\n",
    "my_lp_problem.solve()\n",
    "pulp.LpStatus[my_lp_problem.status]\n"
   ]
  },
  {
   "cell_type": "code",
   "execution_count": 8,
   "metadata": {},
   "outputs": [
    {
     "name": "stdout",
     "output_type": "stream",
     "text": [
      "A = 2.0\n",
      "B = 6.0\n"
     ]
    }
   ],
   "source": [
    "for variable in my_lp_problem.variables():     # Print the Variable values for Optimized Objective\n",
    "    print(variable.name, '=', variable.varValue)"
   ]
  },
  {
   "cell_type": "markdown",
   "metadata": {},
   "source": [
    "# Problem\n",
    "The Trim-Look Company makes several lines of skirts, dresses, and sport coats. Recently, a consultant suggested that the company reevaluate its South Islander line and allocate its resources to products that would maximize contribution to profits and to overhead. \n",
    "\n",
    "Each product requires the same polyester fabric and must pass through the cutting and sewing departments. \n",
    "\n",
    "The following data were collected for the study:\n",
    "\n",
    "\n",
    "**Product: Skirt, Cutting Time: 1 hour\t      Sewing Time: 1 hour     Material (yards): 1**\n",
    "\n",
    "\n",
    "**Product: Dress, Cutting Time: 3 hours, Sewing Time: 4 hours, Material(Yards): 1**\n",
    "\n",
    "**Product: Sports Coat, Cutting Time: 4 hours, Sewing Time: 6 hours , Material(yards): 4**\n",
    "\n",
    "\n",
    "\n",
    "The cutting department has 100 hours of capacity, \n",
    "\n",
    "Sewing has 180 hours of capacity, and \n",
    "\n",
    "60 yards of material are available. \n",
    "\n",
    "Each skirt contributes $5 to profits; \n",
    "\n",
    "each dress $17, and \n",
    "\n",
    "each sport coat, $30.\n",
    "\n",
    "\n",
    "Formulate the problem.\n",
    "\n",
    "**Solution**\n",
    "\n",
    "Decision Variables\n",
    "\n",
    "S: # of Skirts to make per day\n",
    "\n",
    "D: # of Dresses to make per day\n",
    "\n",
    "C: # of sport Coats to make per day\n",
    "\n",
    "**Objective Function**\n",
    "\n",
    "Maximize Total Daily Profit ($ / day) = 5S + 17D + 30C\n",
    "\n",
    "**Constraints**\n",
    "\n",
    "Cutting Time: 1S + 3D + 4C ≤ 100 hours\n",
    "\n",
    "Sewing Time: 1S + 4D + 6C ≤ 180 hours\n",
    "\n",
    "Material:         1S + 1D + 4C ≤ 60 yards\n",
    "\n",
    "Non-negativity: S, D, C ≥ 0\n",
    "\n",
    "Integer: S, D, C are integers\n"
   ]
  },
  {
   "cell_type": "code",
   "execution_count": 9,
   "metadata": {},
   "outputs": [
    {
     "data": {
      "text/plain": [
       "'Optimal'"
      ]
     },
     "execution_count": 9,
     "metadata": {},
     "output_type": "execute_result"
    }
   ],
   "source": [
    "my_lp_problem = pulp.LpProblem(\"My LP Problem\", pulp.LpMaximize) # Create the problem variable as a LpMaximize\n",
    "\n",
    "S = pulp.LpVariable('S', lowBound=0, cat='Continuous') # Create the S variable\n",
    "D = pulp.LpVariable('D', lowBound=2, cat='Continuous')# Create the D variable\n",
    "C = pulp.LpVariable('C', lowBound=2, cat='Continuous')# Create the D variable\n",
    "\n",
    "# Objective function\n",
    "my_lp_problem += 5 * S + 17 * D + 30 * C\n",
    "\n",
    "# Constraints\n",
    "my_lp_problem += 1 * S + 3* D + 4 * C <= 100\n",
    "my_lp_problem += 1 * S + 4 * D + 6 * C <= 180\n",
    "my_lp_problem += 1 * S +1 * D + 4 * C <= 60\n",
    "\n",
    "# Solve the problem and print the Status\n",
    "my_lp_problem.solve()\n",
    "pulp.LpStatus[my_lp_problem.status]"
   ]
  },
  {
   "cell_type": "code",
   "execution_count": 10,
   "metadata": {},
   "outputs": [
    {
     "name": "stdout",
     "output_type": "stream",
     "text": [
      "C = 10.0\n",
      "D = 20.0\n",
      "S = 0.0\n"
     ]
    }
   ],
   "source": [
    "for variable in my_lp_problem.variables():     # Print the Variable values for Optimized Objective\n",
    "    print(variable.name, '=', variable.varValue)"
   ]
  },
  {
   "cell_type": "markdown",
   "metadata": {},
   "source": [
    "\n",
    "# Problem\n",
    "\n",
    "A store has requested a manufacturer to produce pants and sports jackets.\n",
    "\n",
    "For materials, the manufacturer has 750 m² of cotton textile and \n",
    "\n",
    "1,000 m² of polyester. \n",
    "\n",
    "Every pair of pants (1 unit) needs 1 m² of cotton and 2 m² of polyester. \n",
    "\n",
    "Every jacket needs 1.5 m² of cotton and 1 m² of polyester.\n",
    "\n",
    "The price of the pants is fixed at 50 and the jacket,40.\n",
    "\n",
    "What is the number of pants and jackets that the manufacturer must give to the stores so that these items obtain a maximum sale?"
   ]
  },
  {
   "cell_type": "code",
   "execution_count": 22,
   "metadata": {},
   "outputs": [
    {
     "data": {
      "text/plain": [
       "'Optimal'"
      ]
     },
     "execution_count": 22,
     "metadata": {},
     "output_type": "execute_result"
    }
   ],
   "source": [
    "my_lp_problem = pulp.LpProblem(\"My LP Problem\", pulp.LpMaximize) # Create the problem variable as a LpMaximize\n",
    "\n",
    "x = pulp.LpVariable('x', lowBound=0, cat='Continuous') # Create the S variable\n",
    "y = pulp.LpVariable('y', lowBound=2, cat='Continuous')# Create the D variable\n",
    "\n",
    "# Objective function\n",
    "my_lp_problem += 50 * x + 40 * y\n",
    "\n",
    "# Constraints\n",
    "my_lp_problem += 1 * x + 1.5 * y <= 750\n",
    "my_lp_problem += 2 * x + 1 * y <= 1000\n",
    "my_lp_problem +=  x >= 0\n",
    "my_lp_problem +=  y >= 0\n",
    "\n",
    "# Solve the problem and print the Status\n",
    "my_lp_problem.solve()\n",
    "pulp.LpStatus[my_lp_problem.status]"
   ]
  },
  {
   "cell_type": "code",
   "execution_count": 23,
   "metadata": {},
   "outputs": [
    {
     "name": "stdout",
     "output_type": "stream",
     "text": [
      "x = 375.0\n",
      "y = 250.0\n"
     ]
    }
   ],
   "source": [
    "for variable in my_lp_problem.variables():     # Print the Variable values for Optimized Objective\n",
    "    print(variable.name, '=', variable.varValue)"
   ]
  },
  {
   "cell_type": "markdown",
   "metadata": {},
   "source": [
    "# Problem\n",
    "A store sells two types of toys, A and B. The store owner pays 8.00 dollars and 14.00 dollars for each one unit of toy A and B respectively. \n",
    "\n",
    "One unit of toys A yields a profit of 2.00 dollars while a unit of toys B yields a profit of 3.00 dollars\n",
    "\n",
    "The store owner estimates that no more than 2000 toys will be sold every month \n",
    "\n",
    "The owner does not plan to invest more than $20,000 in inventory of these toys. \n",
    "\n",
    "How many units of each type of toys should be stocked in order to maximize his monthly total profit profit?"
   ]
  },
  {
   "cell_type": "code",
   "execution_count": 24,
   "metadata": {},
   "outputs": [
    {
     "data": {
      "text/plain": [
       "'Optimal'"
      ]
     },
     "execution_count": 24,
     "metadata": {},
     "output_type": "execute_result"
    }
   ],
   "source": [
    "my_lp_problem = pulp.LpProblem(\"My LP Problem\", pulp.LpMaximize) # Create the problem variable as a LpMaximize\n",
    "\n",
    "x = pulp.LpVariable('x', lowBound=0, cat='Continuous') # Create the S variable\n",
    "y = pulp.LpVariable('y', lowBound=2, cat='Continuous')# Create the D variable\n",
    "\n",
    "# Objective function\n",
    "my_lp_problem += 2 * x + 3 * y\n",
    "\n",
    "# Constraints\n",
    "my_lp_problem += 1 * x + 1 * y <= 2000\n",
    "my_lp_problem += 8 * x + 14 * y <= 20000\n",
    "y_lp_problem +=  x >= 0\n",
    "my_lp_problem +=  y >= 0\n",
    "\n",
    "# Solve the problem and print the Status\n",
    "my_lp_problem.solve()\n",
    "pulp.LpStatus[my_lp_problem.status]"
   ]
  },
  {
   "cell_type": "code",
   "execution_count": 25,
   "metadata": {},
   "outputs": [
    {
     "name": "stdout",
     "output_type": "stream",
     "text": [
      "x = 1333.33\n",
      "y = 666.67\n"
     ]
    }
   ],
   "source": [
    "for variable in my_lp_problem.variables():     # Print the Variable values for Optimized Objective\n",
    "    print(variable.name, '=', round(variable.varValue, 2))"
   ]
  },
  {
   "cell_type": "code",
   "execution_count": null,
   "metadata": {},
   "outputs": [],
   "source": []
  }
 ],
 "metadata": {
  "kernelspec": {
   "display_name": "Python 3",
   "language": "python",
   "name": "python3"
  },
  "language_info": {
   "codemirror_mode": {
    "name": "ipython",
    "version": 3
   },
   "file_extension": ".py",
   "mimetype": "text/x-python",
   "name": "python",
   "nbconvert_exporter": "python",
   "pygments_lexer": "ipython3",
   "version": "3.7.4"
  }
 },
 "nbformat": 4,
 "nbformat_minor": 2
}

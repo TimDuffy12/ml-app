{
 "cells": [
  {
   "cell_type": "code",
   "execution_count": null,
   "metadata": {},
   "outputs": [
    {
     "name": "stdout",
     "output_type": "stream",
     "text": [
      "\u001b[31mInvalid Input\u001b[0m\n",
      "1 Load my own file\n",
      "2 bill_authentication.csv\n",
      "3 Diamonds.csv\n",
      "4 HousePrices.csv\n",
      "5 Insurance.csv\n",
      "6 InterestRate.csv\n",
      "7 Iris.csv\n",
      "8 National_Football_League.csv\n",
      "9 PetrolConsumption.csv\n",
      "10 Pile Foundation.csv\n",
      "11 pima-indians-diabetes.csv\n",
      "12 StudentGrades.csv\n",
      "13 titanic.csv\n",
      "14 Weddings.csv\n"
     ]
    }
   ],
   "source": [
    "import os\n",
    "import sys\n",
    "from IPython.display import clear_output\n",
    "import pandas as pd\n",
    "dataFiles = os.listdir(\"../Data\")\n",
    "selectedFile = \"\"\n",
    "success = False\n",
    "error = \"\"\n",
    "df = pd\n",
    "\n",
    "while not success:\n",
    "    clear_output()\n",
    "    if(error != \"\"):\n",
    "        print(\"\\x1b[31m\" + error + \"\\x1b[0m\")  \n",
    "    error = \"\"\n",
    "\n",
    "    success = True\n",
    "    error = False\n",
    "    print(\"1 Load my own file\")\n",
    "    t = 2\n",
    "    for i in dataFiles:\n",
    "        print(t, i)\n",
    "        t += 1\n",
    "\n",
    "    try:\n",
    "        selectedFileIndex = int(input(\"Please select a file: \"))\n",
    "        if(selectedFileIndex <= t and selectedFileIndex > 1):\n",
    "            selectedFile = \"../Data/\" + dataFiles[selectedFileIndex - 1]\n",
    "        elif(selectedFileIndex == 1) :\n",
    "            selectedFile = input(\"Enter the path to the file: \")\n",
    "        else:\n",
    "            raise\n",
    "\n",
    "    except:\n",
    "        success = False\n",
    "        error = True\n",
    "        error = \"Invalid Input\"\n",
    "    \n",
    "    if not error:\n",
    "        try:\n",
    "            df = pd.read_csv(selectedFile)\n",
    "        except:\n",
    "            success = False\n",
    "            error = \"File cannot be read\"\n",
    "            \n"
   ]
  },
  {
   "cell_type": "code",
   "execution_count": null,
   "metadata": {},
   "outputs": [],
   "source": []
  }
 ],
 "metadata": {
  "kernelspec": {
   "display_name": "Python 3",
   "language": "python",
   "name": "python3"
  }
 },
 "nbformat": 4,
 "nbformat_minor": 2
}
